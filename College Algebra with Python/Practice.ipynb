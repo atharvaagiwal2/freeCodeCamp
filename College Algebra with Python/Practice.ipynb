{
  "nbformat": 4,
  "nbformat_minor": 0,
  "metadata": {
    "colab": {
      "provenance": [],
      "toc_visible": true
    },
    "kernelspec": {
      "name": "python3",
      "display_name": "Python 3"
    },
    "language_info": {
      "name": "python"
    },
    "widgets": {
      "application/vnd.jupyter.widget-state+json": {
        "1a75fb93c68e48ee8790178bad6e7ab0": {
          "model_module": "@jupyter-widgets/controls",
          "model_name": "VBoxModel",
          "model_module_version": "1.5.0",
          "state": {
            "_dom_classes": [
              "widget-interact"
            ],
            "_model_module": "@jupyter-widgets/controls",
            "_model_module_version": "1.5.0",
            "_model_name": "VBoxModel",
            "_view_count": null,
            "_view_module": "@jupyter-widgets/controls",
            "_view_module_version": "1.5.0",
            "_view_name": "VBoxView",
            "box_style": "",
            "children": [
              "IPY_MODEL_73fe556f48a147d1b63a4406426ef172",
              "IPY_MODEL_1b2e4f1f11054def8cffc257a605435a",
              "IPY_MODEL_8276be32df4c4693acc7b4574d0e412a",
              "IPY_MODEL_c101ce74fd824bd7ab3229e1f7963653"
            ],
            "layout": "IPY_MODEL_6c24b620ca704eab833d1adb54061bfa"
          }
        },
        "73fe556f48a147d1b63a4406426ef172": {
          "model_module": "@jupyter-widgets/controls",
          "model_name": "IntSliderModel",
          "model_module_version": "1.5.0",
          "state": {
            "_dom_classes": [],
            "_model_module": "@jupyter-widgets/controls",
            "_model_module_version": "1.5.0",
            "_model_name": "IntSliderModel",
            "_view_count": null,
            "_view_module": "@jupyter-widgets/controls",
            "_view_module_version": "1.5.0",
            "_view_name": "IntSliderView",
            "continuous_update": true,
            "description": "m",
            "description_tooltip": null,
            "disabled": false,
            "layout": "IPY_MODEL_f4342720cb9b4cf08aba34997dccb754",
            "max": 9,
            "min": -9,
            "orientation": "horizontal",
            "readout": true,
            "readout_format": "d",
            "step": 1,
            "style": "IPY_MODEL_a1fa8ed50668477aa447cbaadf6d492d",
            "value": 0
          }
        },
        "1b2e4f1f11054def8cffc257a605435a": {
          "model_module": "@jupyter-widgets/controls",
          "model_name": "IntSliderModel",
          "model_module_version": "1.5.0",
          "state": {
            "_dom_classes": [],
            "_model_module": "@jupyter-widgets/controls",
            "_model_module_version": "1.5.0",
            "_model_name": "IntSliderModel",
            "_view_count": null,
            "_view_module": "@jupyter-widgets/controls",
            "_view_module_version": "1.5.0",
            "_view_name": "IntSliderView",
            "continuous_update": true,
            "description": "c",
            "description_tooltip": null,
            "disabled": false,
            "layout": "IPY_MODEL_db674d972aa245fc9fdcb5bc79e8d49e",
            "max": 9,
            "min": -9,
            "orientation": "horizontal",
            "readout": true,
            "readout_format": "d",
            "step": 1,
            "style": "IPY_MODEL_cb17c9c88646498aae75731e4b180913",
            "value": 9
          }
        },
        "8276be32df4c4693acc7b4574d0e412a": {
          "model_module": "@jupyter-widgets/controls",
          "model_name": "IntSliderModel",
          "model_module_version": "1.5.0",
          "state": {
            "_dom_classes": [],
            "_model_module": "@jupyter-widgets/controls",
            "_model_module_version": "1.5.0",
            "_model_name": "IntSliderModel",
            "_view_count": null,
            "_view_module": "@jupyter-widgets/controls",
            "_view_module_version": "1.5.0",
            "_view_name": "IntSliderView",
            "continuous_update": true,
            "description": "zoom",
            "description_tooltip": null,
            "disabled": false,
            "layout": "IPY_MODEL_d2b281c8d8d84090b83e7cbc682d7d99",
            "max": 100,
            "min": 1,
            "orientation": "horizontal",
            "readout": true,
            "readout_format": "d",
            "step": 1,
            "style": "IPY_MODEL_ef888f4a2ce141a1b10b9be830ff161c",
            "value": 50
          }
        },
        "c101ce74fd824bd7ab3229e1f7963653": {
          "model_module": "@jupyter-widgets/output",
          "model_name": "OutputModel",
          "model_module_version": "1.0.0",
          "state": {
            "_dom_classes": [],
            "_model_module": "@jupyter-widgets/output",
            "_model_module_version": "1.0.0",
            "_model_name": "OutputModel",
            "_view_count": null,
            "_view_module": "@jupyter-widgets/output",
            "_view_module_version": "1.0.0",
            "_view_name": "OutputView",
            "layout": "IPY_MODEL_8705ed74b69f40f284366063b7c9b326",
            "msg_id": "",
            "outputs": [
              {
                "output_type": "display_data",
                "data": {
                  "text/plain": "<Figure size 640x480 with 1 Axes>",
                  "image/png": "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\n"
                },
                "metadata": {}
              }
            ]
          }
        },
        "6c24b620ca704eab833d1adb54061bfa": {
          "model_module": "@jupyter-widgets/base",
          "model_name": "LayoutModel",
          "model_module_version": "1.2.0",
          "state": {
            "_model_module": "@jupyter-widgets/base",
            "_model_module_version": "1.2.0",
            "_model_name": "LayoutModel",
            "_view_count": null,
            "_view_module": "@jupyter-widgets/base",
            "_view_module_version": "1.2.0",
            "_view_name": "LayoutView",
            "align_content": null,
            "align_items": null,
            "align_self": null,
            "border": null,
            "bottom": null,
            "display": null,
            "flex": null,
            "flex_flow": null,
            "grid_area": null,
            "grid_auto_columns": null,
            "grid_auto_flow": null,
            "grid_auto_rows": null,
            "grid_column": null,
            "grid_gap": null,
            "grid_row": null,
            "grid_template_areas": null,
            "grid_template_columns": null,
            "grid_template_rows": null,
            "height": null,
            "justify_content": null,
            "justify_items": null,
            "left": null,
            "margin": null,
            "max_height": null,
            "max_width": null,
            "min_height": null,
            "min_width": null,
            "object_fit": null,
            "object_position": null,
            "order": null,
            "overflow": null,
            "overflow_x": null,
            "overflow_y": null,
            "padding": null,
            "right": null,
            "top": null,
            "visibility": null,
            "width": null
          }
        },
        "f4342720cb9b4cf08aba34997dccb754": {
          "model_module": "@jupyter-widgets/base",
          "model_name": "LayoutModel",
          "model_module_version": "1.2.0",
          "state": {
            "_model_module": "@jupyter-widgets/base",
            "_model_module_version": "1.2.0",
            "_model_name": "LayoutModel",
            "_view_count": null,
            "_view_module": "@jupyter-widgets/base",
            "_view_module_version": "1.2.0",
            "_view_name": "LayoutView",
            "align_content": null,
            "align_items": null,
            "align_self": null,
            "border": null,
            "bottom": null,
            "display": null,
            "flex": null,
            "flex_flow": null,
            "grid_area": null,
            "grid_auto_columns": null,
            "grid_auto_flow": null,
            "grid_auto_rows": null,
            "grid_column": null,
            "grid_gap": null,
            "grid_row": null,
            "grid_template_areas": null,
            "grid_template_columns": null,
            "grid_template_rows": null,
            "height": null,
            "justify_content": null,
            "justify_items": null,
            "left": null,
            "margin": null,
            "max_height": null,
            "max_width": null,
            "min_height": null,
            "min_width": null,
            "object_fit": null,
            "object_position": null,
            "order": null,
            "overflow": null,
            "overflow_x": null,
            "overflow_y": null,
            "padding": null,
            "right": null,
            "top": null,
            "visibility": null,
            "width": null
          }
        },
        "a1fa8ed50668477aa447cbaadf6d492d": {
          "model_module": "@jupyter-widgets/controls",
          "model_name": "SliderStyleModel",
          "model_module_version": "1.5.0",
          "state": {
            "_model_module": "@jupyter-widgets/controls",
            "_model_module_version": "1.5.0",
            "_model_name": "SliderStyleModel",
            "_view_count": null,
            "_view_module": "@jupyter-widgets/base",
            "_view_module_version": "1.2.0",
            "_view_name": "StyleView",
            "description_width": "",
            "handle_color": null
          }
        },
        "db674d972aa245fc9fdcb5bc79e8d49e": {
          "model_module": "@jupyter-widgets/base",
          "model_name": "LayoutModel",
          "model_module_version": "1.2.0",
          "state": {
            "_model_module": "@jupyter-widgets/base",
            "_model_module_version": "1.2.0",
            "_model_name": "LayoutModel",
            "_view_count": null,
            "_view_module": "@jupyter-widgets/base",
            "_view_module_version": "1.2.0",
            "_view_name": "LayoutView",
            "align_content": null,
            "align_items": null,
            "align_self": null,
            "border": null,
            "bottom": null,
            "display": null,
            "flex": null,
            "flex_flow": null,
            "grid_area": null,
            "grid_auto_columns": null,
            "grid_auto_flow": null,
            "grid_auto_rows": null,
            "grid_column": null,
            "grid_gap": null,
            "grid_row": null,
            "grid_template_areas": null,
            "grid_template_columns": null,
            "grid_template_rows": null,
            "height": null,
            "justify_content": null,
            "justify_items": null,
            "left": null,
            "margin": null,
            "max_height": null,
            "max_width": null,
            "min_height": null,
            "min_width": null,
            "object_fit": null,
            "object_position": null,
            "order": null,
            "overflow": null,
            "overflow_x": null,
            "overflow_y": null,
            "padding": null,
            "right": null,
            "top": null,
            "visibility": null,
            "width": null
          }
        },
        "cb17c9c88646498aae75731e4b180913": {
          "model_module": "@jupyter-widgets/controls",
          "model_name": "SliderStyleModel",
          "model_module_version": "1.5.0",
          "state": {
            "_model_module": "@jupyter-widgets/controls",
            "_model_module_version": "1.5.0",
            "_model_name": "SliderStyleModel",
            "_view_count": null,
            "_view_module": "@jupyter-widgets/base",
            "_view_module_version": "1.2.0",
            "_view_name": "StyleView",
            "description_width": "",
            "handle_color": null
          }
        },
        "d2b281c8d8d84090b83e7cbc682d7d99": {
          "model_module": "@jupyter-widgets/base",
          "model_name": "LayoutModel",
          "model_module_version": "1.2.0",
          "state": {
            "_model_module": "@jupyter-widgets/base",
            "_model_module_version": "1.2.0",
            "_model_name": "LayoutModel",
            "_view_count": null,
            "_view_module": "@jupyter-widgets/base",
            "_view_module_version": "1.2.0",
            "_view_name": "LayoutView",
            "align_content": null,
            "align_items": null,
            "align_self": null,
            "border": null,
            "bottom": null,
            "display": null,
            "flex": null,
            "flex_flow": null,
            "grid_area": null,
            "grid_auto_columns": null,
            "grid_auto_flow": null,
            "grid_auto_rows": null,
            "grid_column": null,
            "grid_gap": null,
            "grid_row": null,
            "grid_template_areas": null,
            "grid_template_columns": null,
            "grid_template_rows": null,
            "height": null,
            "justify_content": null,
            "justify_items": null,
            "left": null,
            "margin": null,
            "max_height": null,
            "max_width": null,
            "min_height": null,
            "min_width": null,
            "object_fit": null,
            "object_position": null,
            "order": null,
            "overflow": null,
            "overflow_x": null,
            "overflow_y": null,
            "padding": null,
            "right": null,
            "top": null,
            "visibility": null,
            "width": null
          }
        },
        "ef888f4a2ce141a1b10b9be830ff161c": {
          "model_module": "@jupyter-widgets/controls",
          "model_name": "SliderStyleModel",
          "model_module_version": "1.5.0",
          "state": {
            "_model_module": "@jupyter-widgets/controls",
            "_model_module_version": "1.5.0",
            "_model_name": "SliderStyleModel",
            "_view_count": null,
            "_view_module": "@jupyter-widgets/base",
            "_view_module_version": "1.2.0",
            "_view_name": "StyleView",
            "description_width": "",
            "handle_color": null
          }
        },
        "8705ed74b69f40f284366063b7c9b326": {
          "model_module": "@jupyter-widgets/base",
          "model_name": "LayoutModel",
          "model_module_version": "1.2.0",
          "state": {
            "_model_module": "@jupyter-widgets/base",
            "_model_module_version": "1.2.0",
            "_model_name": "LayoutModel",
            "_view_count": null,
            "_view_module": "@jupyter-widgets/base",
            "_view_module_version": "1.2.0",
            "_view_name": "LayoutView",
            "align_content": null,
            "align_items": null,
            "align_self": null,
            "border": null,
            "bottom": null,
            "display": null,
            "flex": null,
            "flex_flow": null,
            "grid_area": null,
            "grid_auto_columns": null,
            "grid_auto_flow": null,
            "grid_auto_rows": null,
            "grid_column": null,
            "grid_gap": null,
            "grid_row": null,
            "grid_template_areas": null,
            "grid_template_columns": null,
            "grid_template_rows": null,
            "height": null,
            "justify_content": null,
            "justify_items": null,
            "left": null,
            "margin": null,
            "max_height": null,
            "max_width": null,
            "min_height": null,
            "min_width": null,
            "object_fit": null,
            "object_position": null,
            "order": null,
            "overflow": null,
            "overflow_x": null,
            "overflow_y": null,
            "padding": null,
            "right": null,
            "top": null,
            "visibility": null,
            "width": null
          }
        },
        "49eaade6259e46efae136050495a12c2": {
          "model_module": "@jupyter-widgets/controls",
          "model_name": "VBoxModel",
          "model_module_version": "1.5.0",
          "state": {
            "_dom_classes": [
              "widget-interact"
            ],
            "_model_module": "@jupyter-widgets/controls",
            "_model_module_version": "1.5.0",
            "_model_name": "VBoxModel",
            "_view_count": null,
            "_view_module": "@jupyter-widgets/controls",
            "_view_module_version": "1.5.0",
            "_view_name": "VBoxView",
            "box_style": "",
            "children": [
              "IPY_MODEL_378028aff47345f78546ca14d9554232",
              "IPY_MODEL_c250c46196134799ae1a127fa08c1c72"
            ],
            "layout": "IPY_MODEL_8cb6936720044c8087da7a59e086c14b"
          }
        },
        "378028aff47345f78546ca14d9554232": {
          "model_module": "@jupyter-widgets/controls",
          "model_name": "IntSliderModel",
          "model_module_version": "1.5.0",
          "state": {
            "_dom_classes": [],
            "_model_module": "@jupyter-widgets/controls",
            "_model_module_version": "1.5.0",
            "_model_name": "IntSliderModel",
            "_view_count": null,
            "_view_module": "@jupyter-widgets/controls",
            "_view_module_version": "1.5.0",
            "_view_name": "IntSliderView",
            "continuous_update": true,
            "description": "zoom",
            "description_tooltip": null,
            "disabled": false,
            "layout": "IPY_MODEL_53b0d39fead04c15930fd9cad79a5ec7",
            "max": 100,
            "min": 1,
            "orientation": "horizontal",
            "readout": true,
            "readout_format": "d",
            "step": 1,
            "style": "IPY_MODEL_ca9650ea202f473a8175798f5545dc72",
            "value": 25
          }
        },
        "c250c46196134799ae1a127fa08c1c72": {
          "model_module": "@jupyter-widgets/output",
          "model_name": "OutputModel",
          "model_module_version": "1.0.0",
          "state": {
            "_dom_classes": [],
            "_model_module": "@jupyter-widgets/output",
            "_model_module_version": "1.0.0",
            "_model_name": "OutputModel",
            "_view_count": null,
            "_view_module": "@jupyter-widgets/output",
            "_view_module_version": "1.0.0",
            "_view_name": "OutputView",
            "layout": "IPY_MODEL_dcc00fa089cd475e898961fb2819021f",
            "msg_id": "",
            "outputs": [
              {
                "output_type": "display_data",
                "data": {
                  "text/plain": "<Figure size 640x480 with 1 Axes>",
                  "image/png": "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\n"
                },
                "metadata": {}
              }
            ]
          }
        },
        "8cb6936720044c8087da7a59e086c14b": {
          "model_module": "@jupyter-widgets/base",
          "model_name": "LayoutModel",
          "model_module_version": "1.2.0",
          "state": {
            "_model_module": "@jupyter-widgets/base",
            "_model_module_version": "1.2.0",
            "_model_name": "LayoutModel",
            "_view_count": null,
            "_view_module": "@jupyter-widgets/base",
            "_view_module_version": "1.2.0",
            "_view_name": "LayoutView",
            "align_content": null,
            "align_items": null,
            "align_self": null,
            "border": null,
            "bottom": null,
            "display": null,
            "flex": null,
            "flex_flow": null,
            "grid_area": null,
            "grid_auto_columns": null,
            "grid_auto_flow": null,
            "grid_auto_rows": null,
            "grid_column": null,
            "grid_gap": null,
            "grid_row": null,
            "grid_template_areas": null,
            "grid_template_columns": null,
            "grid_template_rows": null,
            "height": null,
            "justify_content": null,
            "justify_items": null,
            "left": null,
            "margin": null,
            "max_height": null,
            "max_width": null,
            "min_height": null,
            "min_width": null,
            "object_fit": null,
            "object_position": null,
            "order": null,
            "overflow": null,
            "overflow_x": null,
            "overflow_y": null,
            "padding": null,
            "right": null,
            "top": null,
            "visibility": null,
            "width": null
          }
        },
        "53b0d39fead04c15930fd9cad79a5ec7": {
          "model_module": "@jupyter-widgets/base",
          "model_name": "LayoutModel",
          "model_module_version": "1.2.0",
          "state": {
            "_model_module": "@jupyter-widgets/base",
            "_model_module_version": "1.2.0",
            "_model_name": "LayoutModel",
            "_view_count": null,
            "_view_module": "@jupyter-widgets/base",
            "_view_module_version": "1.2.0",
            "_view_name": "LayoutView",
            "align_content": null,
            "align_items": null,
            "align_self": null,
            "border": null,
            "bottom": null,
            "display": null,
            "flex": null,
            "flex_flow": null,
            "grid_area": null,
            "grid_auto_columns": null,
            "grid_auto_flow": null,
            "grid_auto_rows": null,
            "grid_column": null,
            "grid_gap": null,
            "grid_row": null,
            "grid_template_areas": null,
            "grid_template_columns": null,
            "grid_template_rows": null,
            "height": null,
            "justify_content": null,
            "justify_items": null,
            "left": null,
            "margin": null,
            "max_height": null,
            "max_width": null,
            "min_height": null,
            "min_width": null,
            "object_fit": null,
            "object_position": null,
            "order": null,
            "overflow": null,
            "overflow_x": null,
            "overflow_y": null,
            "padding": null,
            "right": null,
            "top": null,
            "visibility": null,
            "width": null
          }
        },
        "ca9650ea202f473a8175798f5545dc72": {
          "model_module": "@jupyter-widgets/controls",
          "model_name": "SliderStyleModel",
          "model_module_version": "1.5.0",
          "state": {
            "_model_module": "@jupyter-widgets/controls",
            "_model_module_version": "1.5.0",
            "_model_name": "SliderStyleModel",
            "_view_count": null,
            "_view_module": "@jupyter-widgets/base",
            "_view_module_version": "1.2.0",
            "_view_name": "StyleView",
            "description_width": "",
            "handle_color": null
          }
        },
        "dcc00fa089cd475e898961fb2819021f": {
          "model_module": "@jupyter-widgets/base",
          "model_name": "LayoutModel",
          "model_module_version": "1.2.0",
          "state": {
            "_model_module": "@jupyter-widgets/base",
            "_model_module_version": "1.2.0",
            "_model_name": "LayoutModel",
            "_view_count": null,
            "_view_module": "@jupyter-widgets/base",
            "_view_module_version": "1.2.0",
            "_view_name": "LayoutView",
            "align_content": null,
            "align_items": null,
            "align_self": null,
            "border": null,
            "bottom": null,
            "display": null,
            "flex": null,
            "flex_flow": null,
            "grid_area": null,
            "grid_auto_columns": null,
            "grid_auto_flow": null,
            "grid_auto_rows": null,
            "grid_column": null,
            "grid_gap": null,
            "grid_row": null,
            "grid_template_areas": null,
            "grid_template_columns": null,
            "grid_template_rows": null,
            "height": null,
            "justify_content": null,
            "justify_items": null,
            "left": null,
            "margin": null,
            "max_height": null,
            "max_width": null,
            "min_height": null,
            "min_width": null,
            "object_fit": null,
            "object_position": null,
            "order": null,
            "overflow": null,
            "overflow_x": null,
            "overflow_y": null,
            "padding": null,
            "right": null,
            "top": null,
            "visibility": null,
            "width": null
          }
        },
        "c8fc623509d24c87a439379316318b38": {
          "model_module": "@jupyter-widgets/controls",
          "model_name": "VBoxModel",
          "model_module_version": "1.5.0",
          "state": {
            "_dom_classes": [
              "widget-interact"
            ],
            "_model_module": "@jupyter-widgets/controls",
            "_model_module_version": "1.5.0",
            "_model_name": "VBoxModel",
            "_view_count": null,
            "_view_module": "@jupyter-widgets/controls",
            "_view_module_version": "1.5.0",
            "_view_name": "VBoxView",
            "box_style": "",
            "children": [
              "IPY_MODEL_eaa79494399943c095412ef705aad993",
              "IPY_MODEL_df48cc2ff53d4be89adcebb9919ff133",
              "IPY_MODEL_71d28effece84a3187c7c8af025bc6af",
              "IPY_MODEL_df234c37b253436cb6e40a929803708a",
              "IPY_MODEL_896648affa4544039aae77f1a919bc1e"
            ],
            "layout": "IPY_MODEL_7da877f4e5df4f3f9da9361fc2f94fa0"
          }
        },
        "eaa79494399943c095412ef705aad993": {
          "model_module": "@jupyter-widgets/controls",
          "model_name": "IntSliderModel",
          "model_module_version": "1.5.0",
          "state": {
            "_dom_classes": [],
            "_model_module": "@jupyter-widgets/controls",
            "_model_module_version": "1.5.0",
            "_model_name": "IntSliderModel",
            "_view_count": null,
            "_view_module": "@jupyter-widgets/controls",
            "_view_module_version": "1.5.0",
            "_view_name": "IntSliderView",
            "continuous_update": true,
            "description": "a",
            "description_tooltip": null,
            "disabled": false,
            "layout": "IPY_MODEL_0da3e99412c64d69811d75e22fb62c1d",
            "max": 9,
            "min": 1,
            "orientation": "horizontal",
            "readout": true,
            "readout_format": "d",
            "step": 1,
            "style": "IPY_MODEL_ba1e2d5cf6b3450aaaf14f6064723a2b",
            "value": 5
          }
        },
        "df48cc2ff53d4be89adcebb9919ff133": {
          "model_module": "@jupyter-widgets/controls",
          "model_name": "IntSliderModel",
          "model_module_version": "1.5.0",
          "state": {
            "_dom_classes": [],
            "_model_module": "@jupyter-widgets/controls",
            "_model_module_version": "1.5.0",
            "_model_name": "IntSliderModel",
            "_view_count": null,
            "_view_module": "@jupyter-widgets/controls",
            "_view_module_version": "1.5.0",
            "_view_name": "IntSliderView",
            "continuous_update": true,
            "description": "b",
            "description_tooltip": null,
            "disabled": false,
            "layout": "IPY_MODEL_97d4d364aa0047cdb5c5e9525ae080d5",
            "max": 9,
            "min": -9,
            "orientation": "horizontal",
            "readout": true,
            "readout_format": "d",
            "step": 1,
            "style": "IPY_MODEL_2715e9e200334ac1bb5f715161989541",
            "value": 0
          }
        },
        "71d28effece84a3187c7c8af025bc6af": {
          "model_module": "@jupyter-widgets/controls",
          "model_name": "IntSliderModel",
          "model_module_version": "1.5.0",
          "state": {
            "_dom_classes": [],
            "_model_module": "@jupyter-widgets/controls",
            "_model_module_version": "1.5.0",
            "_model_name": "IntSliderModel",
            "_view_count": null,
            "_view_module": "@jupyter-widgets/controls",
            "_view_module_version": "1.5.0",
            "_view_name": "IntSliderView",
            "continuous_update": true,
            "description": "c",
            "description_tooltip": null,
            "disabled": false,
            "layout": "IPY_MODEL_d89f640f5184420d9b6d2032dd4a6e71",
            "max": 9,
            "min": -9,
            "orientation": "horizontal",
            "readout": true,
            "readout_format": "d",
            "step": 1,
            "style": "IPY_MODEL_9a67636f394f42d9a20ba2554118cc45",
            "value": 0
          }
        },
        "df234c37b253436cb6e40a929803708a": {
          "model_module": "@jupyter-widgets/controls",
          "model_name": "IntSliderModel",
          "model_module_version": "1.5.0",
          "state": {
            "_dom_classes": [],
            "_model_module": "@jupyter-widgets/controls",
            "_model_module_version": "1.5.0",
            "_model_name": "IntSliderModel",
            "_view_count": null,
            "_view_module": "@jupyter-widgets/controls",
            "_view_module_version": "1.5.0",
            "_view_name": "IntSliderView",
            "continuous_update": true,
            "description": "zoom",
            "description_tooltip": null,
            "disabled": false,
            "layout": "IPY_MODEL_e775fd0b14324d70a599b3e99d40bccb",
            "max": 100,
            "min": 1,
            "orientation": "horizontal",
            "readout": true,
            "readout_format": "d",
            "step": 1,
            "style": "IPY_MODEL_7db4c698cfb440329497957172b1ae71",
            "value": 48
          }
        },
        "896648affa4544039aae77f1a919bc1e": {
          "model_module": "@jupyter-widgets/output",
          "model_name": "OutputModel",
          "model_module_version": "1.0.0",
          "state": {
            "_dom_classes": [],
            "_model_module": "@jupyter-widgets/output",
            "_model_module_version": "1.0.0",
            "_model_name": "OutputModel",
            "_view_count": null,
            "_view_module": "@jupyter-widgets/output",
            "_view_module_version": "1.0.0",
            "_view_name": "OutputView",
            "layout": "IPY_MODEL_05a1f0b633654cdca2247e64fb5ebd4f",
            "msg_id": "",
            "outputs": [
              {
                "output_type": "stream",
                "name": "stdout",
                "text": [
                  "0.0 0.0\n"
                ]
              },
              {
                "output_type": "display_data",
                "data": {
                  "text/plain": "<Figure size 640x480 with 1 Axes>",
                  "image/png": "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\n"
                },
                "metadata": {}
              }
            ]
          }
        },
        "7da877f4e5df4f3f9da9361fc2f94fa0": {
          "model_module": "@jupyter-widgets/base",
          "model_name": "LayoutModel",
          "model_module_version": "1.2.0",
          "state": {
            "_model_module": "@jupyter-widgets/base",
            "_model_module_version": "1.2.0",
            "_model_name": "LayoutModel",
            "_view_count": null,
            "_view_module": "@jupyter-widgets/base",
            "_view_module_version": "1.2.0",
            "_view_name": "LayoutView",
            "align_content": null,
            "align_items": null,
            "align_self": null,
            "border": null,
            "bottom": null,
            "display": null,
            "flex": null,
            "flex_flow": null,
            "grid_area": null,
            "grid_auto_columns": null,
            "grid_auto_flow": null,
            "grid_auto_rows": null,
            "grid_column": null,
            "grid_gap": null,
            "grid_row": null,
            "grid_template_areas": null,
            "grid_template_columns": null,
            "grid_template_rows": null,
            "height": null,
            "justify_content": null,
            "justify_items": null,
            "left": null,
            "margin": null,
            "max_height": null,
            "max_width": null,
            "min_height": null,
            "min_width": null,
            "object_fit": null,
            "object_position": null,
            "order": null,
            "overflow": null,
            "overflow_x": null,
            "overflow_y": null,
            "padding": null,
            "right": null,
            "top": null,
            "visibility": null,
            "width": null
          }
        },
        "0da3e99412c64d69811d75e22fb62c1d": {
          "model_module": "@jupyter-widgets/base",
          "model_name": "LayoutModel",
          "model_module_version": "1.2.0",
          "state": {
            "_model_module": "@jupyter-widgets/base",
            "_model_module_version": "1.2.0",
            "_model_name": "LayoutModel",
            "_view_count": null,
            "_view_module": "@jupyter-widgets/base",
            "_view_module_version": "1.2.0",
            "_view_name": "LayoutView",
            "align_content": null,
            "align_items": null,
            "align_self": null,
            "border": null,
            "bottom": null,
            "display": null,
            "flex": null,
            "flex_flow": null,
            "grid_area": null,
            "grid_auto_columns": null,
            "grid_auto_flow": null,
            "grid_auto_rows": null,
            "grid_column": null,
            "grid_gap": null,
            "grid_row": null,
            "grid_template_areas": null,
            "grid_template_columns": null,
            "grid_template_rows": null,
            "height": null,
            "justify_content": null,
            "justify_items": null,
            "left": null,
            "margin": null,
            "max_height": null,
            "max_width": null,
            "min_height": null,
            "min_width": null,
            "object_fit": null,
            "object_position": null,
            "order": null,
            "overflow": null,
            "overflow_x": null,
            "overflow_y": null,
            "padding": null,
            "right": null,
            "top": null,
            "visibility": null,
            "width": null
          }
        },
        "ba1e2d5cf6b3450aaaf14f6064723a2b": {
          "model_module": "@jupyter-widgets/controls",
          "model_name": "SliderStyleModel",
          "model_module_version": "1.5.0",
          "state": {
            "_model_module": "@jupyter-widgets/controls",
            "_model_module_version": "1.5.0",
            "_model_name": "SliderStyleModel",
            "_view_count": null,
            "_view_module": "@jupyter-widgets/base",
            "_view_module_version": "1.2.0",
            "_view_name": "StyleView",
            "description_width": "",
            "handle_color": null
          }
        },
        "97d4d364aa0047cdb5c5e9525ae080d5": {
          "model_module": "@jupyter-widgets/base",
          "model_name": "LayoutModel",
          "model_module_version": "1.2.0",
          "state": {
            "_model_module": "@jupyter-widgets/base",
            "_model_module_version": "1.2.0",
            "_model_name": "LayoutModel",
            "_view_count": null,
            "_view_module": "@jupyter-widgets/base",
            "_view_module_version": "1.2.0",
            "_view_name": "LayoutView",
            "align_content": null,
            "align_items": null,
            "align_self": null,
            "border": null,
            "bottom": null,
            "display": null,
            "flex": null,
            "flex_flow": null,
            "grid_area": null,
            "grid_auto_columns": null,
            "grid_auto_flow": null,
            "grid_auto_rows": null,
            "grid_column": null,
            "grid_gap": null,
            "grid_row": null,
            "grid_template_areas": null,
            "grid_template_columns": null,
            "grid_template_rows": null,
            "height": null,
            "justify_content": null,
            "justify_items": null,
            "left": null,
            "margin": null,
            "max_height": null,
            "max_width": null,
            "min_height": null,
            "min_width": null,
            "object_fit": null,
            "object_position": null,
            "order": null,
            "overflow": null,
            "overflow_x": null,
            "overflow_y": null,
            "padding": null,
            "right": null,
            "top": null,
            "visibility": null,
            "width": null
          }
        },
        "2715e9e200334ac1bb5f715161989541": {
          "model_module": "@jupyter-widgets/controls",
          "model_name": "SliderStyleModel",
          "model_module_version": "1.5.0",
          "state": {
            "_model_module": "@jupyter-widgets/controls",
            "_model_module_version": "1.5.0",
            "_model_name": "SliderStyleModel",
            "_view_count": null,
            "_view_module": "@jupyter-widgets/base",
            "_view_module_version": "1.2.0",
            "_view_name": "StyleView",
            "description_width": "",
            "handle_color": null
          }
        },
        "d89f640f5184420d9b6d2032dd4a6e71": {
          "model_module": "@jupyter-widgets/base",
          "model_name": "LayoutModel",
          "model_module_version": "1.2.0",
          "state": {
            "_model_module": "@jupyter-widgets/base",
            "_model_module_version": "1.2.0",
            "_model_name": "LayoutModel",
            "_view_count": null,
            "_view_module": "@jupyter-widgets/base",
            "_view_module_version": "1.2.0",
            "_view_name": "LayoutView",
            "align_content": null,
            "align_items": null,
            "align_self": null,
            "border": null,
            "bottom": null,
            "display": null,
            "flex": null,
            "flex_flow": null,
            "grid_area": null,
            "grid_auto_columns": null,
            "grid_auto_flow": null,
            "grid_auto_rows": null,
            "grid_column": null,
            "grid_gap": null,
            "grid_row": null,
            "grid_template_areas": null,
            "grid_template_columns": null,
            "grid_template_rows": null,
            "height": null,
            "justify_content": null,
            "justify_items": null,
            "left": null,
            "margin": null,
            "max_height": null,
            "max_width": null,
            "min_height": null,
            "min_width": null,
            "object_fit": null,
            "object_position": null,
            "order": null,
            "overflow": null,
            "overflow_x": null,
            "overflow_y": null,
            "padding": null,
            "right": null,
            "top": null,
            "visibility": null,
            "width": null
          }
        },
        "9a67636f394f42d9a20ba2554118cc45": {
          "model_module": "@jupyter-widgets/controls",
          "model_name": "SliderStyleModel",
          "model_module_version": "1.5.0",
          "state": {
            "_model_module": "@jupyter-widgets/controls",
            "_model_module_version": "1.5.0",
            "_model_name": "SliderStyleModel",
            "_view_count": null,
            "_view_module": "@jupyter-widgets/base",
            "_view_module_version": "1.2.0",
            "_view_name": "StyleView",
            "description_width": "",
            "handle_color": null
          }
        },
        "e775fd0b14324d70a599b3e99d40bccb": {
          "model_module": "@jupyter-widgets/base",
          "model_name": "LayoutModel",
          "model_module_version": "1.2.0",
          "state": {
            "_model_module": "@jupyter-widgets/base",
            "_model_module_version": "1.2.0",
            "_model_name": "LayoutModel",
            "_view_count": null,
            "_view_module": "@jupyter-widgets/base",
            "_view_module_version": "1.2.0",
            "_view_name": "LayoutView",
            "align_content": null,
            "align_items": null,
            "align_self": null,
            "border": null,
            "bottom": null,
            "display": null,
            "flex": null,
            "flex_flow": null,
            "grid_area": null,
            "grid_auto_columns": null,
            "grid_auto_flow": null,
            "grid_auto_rows": null,
            "grid_column": null,
            "grid_gap": null,
            "grid_row": null,
            "grid_template_areas": null,
            "grid_template_columns": null,
            "grid_template_rows": null,
            "height": null,
            "justify_content": null,
            "justify_items": null,
            "left": null,
            "margin": null,
            "max_height": null,
            "max_width": null,
            "min_height": null,
            "min_width": null,
            "object_fit": null,
            "object_position": null,
            "order": null,
            "overflow": null,
            "overflow_x": null,
            "overflow_y": null,
            "padding": null,
            "right": null,
            "top": null,
            "visibility": null,
            "width": null
          }
        },
        "7db4c698cfb440329497957172b1ae71": {
          "model_module": "@jupyter-widgets/controls",
          "model_name": "SliderStyleModel",
          "model_module_version": "1.5.0",
          "state": {
            "_model_module": "@jupyter-widgets/controls",
            "_model_module_version": "1.5.0",
            "_model_name": "SliderStyleModel",
            "_view_count": null,
            "_view_module": "@jupyter-widgets/base",
            "_view_module_version": "1.2.0",
            "_view_name": "StyleView",
            "description_width": "",
            "handle_color": null
          }
        },
        "05a1f0b633654cdca2247e64fb5ebd4f": {
          "model_module": "@jupyter-widgets/base",
          "model_name": "LayoutModel",
          "model_module_version": "1.2.0",
          "state": {
            "_model_module": "@jupyter-widgets/base",
            "_model_module_version": "1.2.0",
            "_model_name": "LayoutModel",
            "_view_count": null,
            "_view_module": "@jupyter-widgets/base",
            "_view_module_version": "1.2.0",
            "_view_name": "LayoutView",
            "align_content": null,
            "align_items": null,
            "align_self": null,
            "border": null,
            "bottom": null,
            "display": null,
            "flex": null,
            "flex_flow": null,
            "grid_area": null,
            "grid_auto_columns": null,
            "grid_auto_flow": null,
            "grid_auto_rows": null,
            "grid_column": null,
            "grid_gap": null,
            "grid_row": null,
            "grid_template_areas": null,
            "grid_template_columns": null,
            "grid_template_rows": null,
            "height": null,
            "justify_content": null,
            "justify_items": null,
            "left": null,
            "margin": null,
            "max_height": null,
            "max_width": null,
            "min_height": null,
            "min_width": null,
            "object_fit": null,
            "object_position": null,
            "order": null,
            "overflow": null,
            "overflow_x": null,
            "overflow_y": null,
            "padding": null,
            "right": null,
            "top": null,
            "visibility": null,
            "width": null
          }
        }
      }
    }
  },
  "cells": [
    {
      "cell_type": "markdown",
      "source": [
        "## **Proportion**\n",
        "\n",
        "$\\frac{n1}{d1} = \\frac{n2}{d2}$"
      ],
      "metadata": {
        "id": "AtPCzEeIIBqb"
      }
    },
    {
      "cell_type": "code",
      "execution_count": null,
      "metadata": {
        "colab": {
          "base_uri": "https://localhost:8080/"
        },
        "id": "whIMNTN2FyjP",
        "outputId": "de674dd8-ae03-48bd-9724-299dc9dcff87"
      },
      "outputs": [
        {
          "output_type": "stream",
          "name": "stdout",
          "text": [
            "n2 = 8.0\n"
          ]
        }
      ],
      "source": [
        "# Put a zero in for the unknown value\n",
        "\n",
        "n1 = 1\n",
        "d1 = 2\n",
        "n2 = 0\n",
        "d2 = 16\n",
        "\n",
        "if n2 == 0:\n",
        "    answer = d2*n1/d1\n",
        "    print('n2 =',answer)\n",
        "if d2 == 0:\n",
        "    answer = n2*d1/n1\n",
        "    print('d2 =',answer)"
      ]
    },
    {
      "cell_type": "markdown",
      "source": [
        "## **Solve for X**"
      ],
      "metadata": {
        "id": "y6isT_CSKR4s"
      }
    },
    {
      "cell_type": "code",
      "source": [
        "import sympy  # library used to solve algebra problems with variables\n",
        "from sympy import symbols\n",
        "from sympy.solvers import solve\n",
        "\n",
        "x = symbols('x')\n",
        "\n",
        "eqn = x**2 - 4 #eq is set to 0\n",
        "\n",
        "print(\"x = \",solve(eqn,x))"
      ],
      "metadata": {
        "colab": {
          "base_uri": "https://localhost:8080/"
        },
        "id": "y6CV1GO7KV8U",
        "outputId": "c15fd0ab-7387-479f-dc06-8b337590eae8"
      },
      "execution_count": null,
      "outputs": [
        {
          "output_type": "stream",
          "name": "stdout",
          "text": [
            "x =  [-2, 2]\n"
          ]
        }
      ]
    },
    {
      "cell_type": "code",
      "source": [
        "import sympy  # library used to solve algebra problems with variables\n",
        "from sympy import symbols,Eq\n",
        "from sympy.solvers import solve\n",
        "\n",
        "x = symbols('x')\n",
        "\n",
        "eqn = x**2 - 4 ## RHS equal to zero\n",
        "\n",
        "eq = Eq(eqn,5) ## RHS not equal to zero\n",
        "\n",
        "print(\"x = \",solve(eq,x))"
      ],
      "metadata": {
        "colab": {
          "base_uri": "https://localhost:8080/"
        },
        "id": "bm87Yp8INVOk",
        "outputId": "902b51bb-5f48-4d28-8a18-b85926b428a8"
      },
      "execution_count": null,
      "outputs": [
        {
          "output_type": "stream",
          "name": "stdout",
          "text": [
            "x =  [-3, 3]\n"
          ]
        }
      ]
    },
    {
      "cell_type": "markdown",
      "source": [
        "## **Prompt to enter the equation and then solve**"
      ],
      "metadata": {
        "id": "qwYJvAMNLzqY"
      }
    },
    {
      "cell_type": "code",
      "source": [
        "import sympy  #library used to solve algebra problems with variables\n",
        "from sympy import symbols\n",
        "from sympy.solvers import solve\n",
        "\n",
        "x = symbols('x')\n",
        "\n",
        "eqn = input('Equation: 0 = ')\n",
        "\n",
        "answer = solve(eqn,x)\n",
        "\n",
        "for s in answer:\n",
        "  print(\"x = \",s)"
      ],
      "metadata": {
        "colab": {
          "base_uri": "https://localhost:8080/"
        },
        "id": "epcV-_mvL813",
        "outputId": "33cc2699-9e1d-4f12-fa52-f6b4746c573d"
      },
      "execution_count": null,
      "outputs": [
        {
          "output_type": "stream",
          "name": "stdout",
          "text": [
            "Equation: 0 = x**2-9\n",
            "x =  -3\n",
            "x =  3\n"
          ]
        }
      ]
    },
    {
      "cell_type": "markdown",
      "source": [
        "## **Expressing X in terms of Y**"
      ],
      "metadata": {
        "id": "wyeLu92LOIC5"
      }
    },
    {
      "cell_type": "code",
      "source": [
        "import sympy\n",
        "from sympy import symbols,Eq,var\n",
        "from sympy.solvers import solve\n",
        "\n",
        "var('x y')\n",
        "\n",
        "x = symbols('x')\n",
        "\n",
        "eqn_x = 3*x**2-4\n",
        "\n",
        "eqn = Eq(eqn_x,y) ## equating RHS to y\n",
        "\n",
        "for s in solve(eqn,x): ## Solving for x\n",
        "  print('x = ',s)"
      ],
      "metadata": {
        "colab": {
          "base_uri": "https://localhost:8080/"
        },
        "id": "ql60wXt5OHu1",
        "outputId": "43579118-307a-4cc2-9ccc-9b3c6c21c373"
      },
      "execution_count": null,
      "outputs": [
        {
          "output_type": "stream",
          "name": "stdout",
          "text": [
            "x =  -sqrt(3*y + 12)/3\n",
            "x =  sqrt(3*y + 12)/3\n"
          ]
        }
      ]
    },
    {
      "cell_type": "markdown",
      "source": [
        "## **Factorizing**"
      ],
      "metadata": {
        "id": "8SWnOWSsQROw"
      }
    },
    {
      "cell_type": "code",
      "source": [
        "import sympy\n",
        "from sympy import symbols,Eq,var,factor\n",
        "from sympy.solvers import solve\n",
        "\n",
        "var('x y')\n",
        "\n",
        "eqn = 8*x + 6*y + 4\n",
        "\n",
        "eqn2 = x**3 - 2*x**2 - 5*x + 6\n",
        "\n",
        "print(eqn,'has factor:',factor(eqn))\n",
        "print(eqn2,'has factor:',factor(eqn2))"
      ],
      "metadata": {
        "colab": {
          "base_uri": "https://localhost:8080/"
        },
        "id": "FnnDm2DiQVD8",
        "outputId": "10a8cfcb-b838-4671-aaab-3e4c7ca274c7"
      },
      "execution_count": null,
      "outputs": [
        {
          "output_type": "stream",
          "name": "stdout",
          "text": [
            "8*x + 6*y + 4 has factor: 2*(4*x + 3*y + 2)\n",
            "x**3 - 2*x**2 - 5*x + 6 has factor: (x - 3)*(x - 1)*(x + 2)\n"
          ]
        }
      ]
    },
    {
      "cell_type": "markdown",
      "source": [
        "## **Converting string input (including fractions) into float**"
      ],
      "metadata": {
        "id": "3EnnbQJESIk3"
      }
    },
    {
      "cell_type": "code",
      "source": [
        "def string_fract(in_string):\n",
        "  if '/' in in_string:\n",
        "    nd = in_string.split('/')\n",
        "    num = float(nd[0])\n",
        "    den = float(nd[1])\n",
        "    return num/den\n",
        "  else:\n",
        "    return float(in_string)\n"
      ],
      "metadata": {
        "id": "lKdVAmfISG9I"
      },
      "execution_count": null,
      "outputs": []
    },
    {
      "cell_type": "markdown",
      "source": [
        "## **One-Step Multiplication and One-step Addition**"
      ],
      "metadata": {
        "id": "KEoM__-jUN9V"
      }
    },
    {
      "cell_type": "code",
      "source": [
        "def one_step_mult():\n",
        "  import random\n",
        "\n",
        "  a = random.randint(1,11)\n",
        "  b = random.randint(12,15)\n",
        "\n",
        "  print(a,'* x =',b)\n",
        "\n",
        "  ans_in = input('hence, x = ')\n",
        "\n",
        "  ans = b/a\n",
        "  #Testing\n",
        "  if ans == string_fract(ans_in):\n",
        "    print('Correct!')\n",
        "  else:\n",
        "    print('Try Again')\n",
        "    print('Correct value of x =',ans)"
      ],
      "metadata": {
        "id": "XH6XR8jmUEuj"
      },
      "execution_count": null,
      "outputs": []
    },
    {
      "cell_type": "code",
      "source": [
        "def one_step_add():\n",
        "  import random\n",
        "\n",
        "  a = random.randint(1,11)\n",
        "  b = random.randint(12,15)\n",
        "\n",
        "  print(a,'+ x =',b)\n",
        "\n",
        "  ans_in = input('hence, x = ')\n",
        "\n",
        "  ans = b-a\n",
        "  #Testing\n",
        "  if ans == string_fract(ans_in):\n",
        "    print('Correct!')\n",
        "  else:\n",
        "    print('Try Again')\n",
        "    print('Correct value of x =',ans)"
      ],
      "metadata": {
        "id": "MNLwfE-AV0vg"
      },
      "execution_count": null,
      "outputs": []
    },
    {
      "cell_type": "markdown",
      "source": [
        "## **Converting decimal into fraction**\n",
        "\n",
        "ex. converting .324 to $\\frac{324}{1000}$"
      ],
      "metadata": {
        "id": "uTm3wrUpdD1c"
      }
    },
    {
      "cell_type": "code",
      "source": [
        "digits = input(\"Enter the decimal number to convert: \")\n",
        "\n",
        "exponent = int(len(digits))-1\n",
        "\n",
        "n = float(digits)\n",
        "\n",
        "num = int(n*10**exponent)\n",
        "den = int(10**exponent)\n",
        "\n",
        "percent = n*100\n",
        "\n",
        "print('The decimal is ',n)\n",
        "print('The fraction is ',num,'/',den,sep='')\n",
        "print('The percentage is ',percent,'%')\n",
        "\n"
      ],
      "metadata": {
        "colab": {
          "base_uri": "https://localhost:8080/"
        },
        "id": "ImtspmU6dRlY",
        "outputId": "cfc68b95-9f83-4a6c-eebd-6060ea3d7e6b"
      },
      "execution_count": null,
      "outputs": [
        {
          "output_type": "stream",
          "name": "stdout",
          "text": [
            "Enter the decimal number to convert: .987\n",
            "The decimal is  0.987\n",
            "The fraction is 987/1000\n",
            "The percentage is  98.7 %\n"
          ]
        }
      ]
    },
    {
      "cell_type": "markdown",
      "source": [
        "## **Function and Graphing**"
      ],
      "metadata": {
        "id": "OYBqJCgofJX6"
      }
    },
    {
      "cell_type": "code",
      "source": [
        "# Basic blank graph\n",
        "import matplotlib.pyplot as plt\n",
        "\n",
        "fig,ax = plt.subplots()\n",
        "plt.show()"
      ],
      "metadata": {
        "colab": {
          "base_uri": "https://localhost:8080/",
          "height": 435
        },
        "id": "8PctijLTfI5e",
        "outputId": "2dd1c3d5-910d-4dd3-ca81-f4412f0523d9"
      },
      "execution_count": null,
      "outputs": [
        {
          "output_type": "display_data",
          "data": {
            "text/plain": [
              "<Figure size 640x480 with 1 Axes>"
            ],
            "image/png": "[encoded data removed]"
          },
          "metadata": {}
        }
      ]
    },
    {
      "cell_type": "code",
      "source": [
        "# Defining the dimension of the graph\n",
        "import matplotlib.pyplot as plt\n",
        "\n",
        "xmin = -10\n",
        "xmax = 10\n",
        "ymin = -10\n",
        "ymax = 10\n",
        "\n",
        "fig,ax = plt.subplots()\n",
        "\n",
        "plt.axis([xmin,xmax,ymin,ymax]) # window size\n",
        "\n",
        "plt.show()"
      ],
      "metadata": {
        "colab": {
          "base_uri": "https://localhost:8080/",
          "height": 435
        },
        "id": "w0Txiwief5V9",
        "outputId": "cbd8521b-d88b-49e4-f705-24ff98c7f09b"
      },
      "execution_count": null,
      "outputs": [
        {
          "output_type": "display_data",
          "data": {
            "text/plain": [
              "<Figure size 640x480 with 1 Axes>"
            ],
            "image/png": "[encoded data removed]"
          },
          "metadata": {}
        }
      ]
    },
    {
      "cell_type": "code",
      "source": [
        "# Displaying the axes lines and plotting a point\n",
        "import matplotlib.pyplot as plt\n",
        "\n",
        "xmin = -10\n",
        "xmax = 10\n",
        "ymin = -10\n",
        "ymax = 10\n",
        "\n",
        "fig,ax = plt.subplots()\n",
        "\n",
        "plt.axis([xmin,xmax,ymin,ymax]) # window size\n",
        "plt.plot([xmin,xmax],[0,0],'k')\n",
        "plt.plot([0,0],[ymin,ymax],'k')  #array of x-values followed by array of y-values\n",
        "\n",
        "plt.plot([5],[-5],'ro')\n",
        "\n",
        "plt.show()"
      ],
      "metadata": {
        "colab": {
          "base_uri": "https://localhost:8080/",
          "height": 435
        },
        "id": "NOvjYQIrg8qu",
        "outputId": "6b358a64-c94b-4e26-ea8d-9ee952c19eb9"
      },
      "execution_count": null,
      "outputs": [
        {
          "output_type": "display_data",
          "data": {
            "text/plain": [
              "<Figure size 640x480 with 1 Axes>"
            ],
            "image/png": "[encoded data removed]"
          },
          "metadata": {}
        }
      ]
    },
    {
      "cell_type": "code",
      "source": [
        "# plotting multiple points\n",
        "\n",
        "import matplotlib.pyplot as plt\n",
        "\n",
        "xmin = -10\n",
        "xmax = 10\n",
        "ymin = -10\n",
        "ymax = 10\n",
        "\n",
        "fig,ax = plt.subplots()\n",
        "\n",
        "plt.axis([xmin,xmax,ymin,ymax])\n",
        "plt.plot([xmin,xmax],[0,0],'b')\n",
        "plt.plot([0,0],[ymin,ymax],'b')\n",
        "\n",
        "for x in range(xmin,xmax+1):\n",
        "  y = 0.5*x+3\n",
        "  plt.plot([x],[y],'ro')\n",
        "\n",
        "plt.show()"
      ],
      "metadata": {
        "colab": {
          "base_uri": "https://localhost:8080/",
          "height": 435
        },
        "id": "TChQ4pVRiDXy",
        "outputId": "5bcf1d20-2a1d-4033-c213-bdb8c65da648"
      },
      "execution_count": null,
      "outputs": [
        {
          "output_type": "display_data",
          "data": {
            "text/plain": [
              "<Figure size 640x480 with 1 Axes>"
            ],
            "image/png": "[encoded data removed]"
          },
          "metadata": {}
        }
      ]
    },
    {
      "cell_type": "code",
      "source": [
        "import matplotlib.pyplot as plt\n",
        "import numpy as np\n",
        "\n",
        "xmin = -10\n",
        "xmax = 10\n",
        "ymin = -10\n",
        "ymax = 10\n",
        "\n",
        "fig,ax = plt.subplots()\n",
        "\n",
        "plt.plot([xmin,xmax],[0,0],'k')\n",
        "plt.plot([0,0],[ymin,ymax],'k')\n",
        "\n",
        "#instead of looping\n",
        "num_pts = 2*(xmax-xmin)\n",
        "x = np.linspace(xmin,xmax,num_pts)\n",
        "y = 0.5*x+3\n",
        "\n",
        "plt.plot(x,y,'ro')\n",
        "\n",
        "plt.show()"
      ],
      "metadata": {
        "colab": {
          "base_uri": "https://localhost:8080/",
          "height": 430
        },
        "id": "5ukU5j0mks-D",
        "outputId": "2bd9be6f-bd9d-4272-cabe-7cda448ff6a9"
      },
      "execution_count": null,
      "outputs": [
        {
          "output_type": "display_data",
          "data": {
            "text/plain": [
              "<Figure size 640x480 with 1 Axes>"
            ],
            "image/png": "[encoded data removed]"
          },
          "metadata": {}
        }
      ]
    },
    {
      "cell_type": "code",
      "source": [
        "# More modifications\n",
        "\n",
        "import matplotlib.pyplot as plt\n",
        "import numpy as np\n",
        "\n",
        "xmin = -10\n",
        "xmax = 10\n",
        "ymin = -10\n",
        "ymax = 10\n",
        "\n",
        "fig,ax = plt.subplots()\n",
        "\n",
        "plt.axis([xmin,xmax,ymin,ymax])\n",
        "\n",
        "plt.plot([xmin,xmax],[0,0],'k')\n",
        "plt.plot([0,0],[ymin,ymax],'k')\n",
        "\n",
        "\n",
        "ax.set_xlabel('x-axis')\n",
        "ax.set_ylabel('y-axis')\n",
        "ax.set_title('My Graph')\n",
        "ax.grid(True)   # incase we require grid lines\n",
        "\n",
        "ax.set_xticks(np.arange(xmin,xmax,1)) # 1 means step size = 1\n",
        "ax.set_yticks(np.arange(ymin,ymax,1))\n",
        "\n",
        "num_pts = 2*(xmax-xmin)\n",
        "x = np.linspace(xmin,xmax,num_pts)\n",
        "y = 0.5*x+3\n",
        "\n",
        "# plots with labels\n",
        "plt.plot(x,y,label='y=0.5x+3')\n",
        "plt.plot([5],[5],'ro',label='point')\n",
        "plt.plot(x,3*x,label ='steeper line')\n",
        "\n",
        "plt.legend()\n",
        "\n",
        "plt.show()"
      ],
      "metadata": {
        "colab": {
          "base_uri": "https://localhost:8080/",
          "height": 472
        },
        "id": "G5CBVH_VmUR3",
        "outputId": "5dad1598-ec36-4263-d5a2-36abfe779251"
      },
      "execution_count": null,
      "outputs": [
        {
          "output_type": "display_data",
          "data": {
            "text/plain": [
              "<Figure size 640x480 with 1 Axes>"
            ],
            "image/png": "[encoded data removed]"
          },
          "metadata": {}
        }
      ]
    },
    {
      "cell_type": "markdown",
      "source": [
        "## **Linear Equation**"
      ],
      "metadata": {
        "id": "sCmHm_hmta8-"
      }
    },
    {
      "cell_type": "code",
      "source": [
        "x1,y1 = 1,7\n",
        "x2,y2 = 2,10\n",
        "\n",
        "slope = (y2-y1)/(x2-x1)\n",
        "\n",
        "intercept = y1 - x1*slope\n",
        "\n",
        "print('Equation in slope-intercept form is','y =',slope,'x +',intercept)\n",
        "\n",
        "xmin = -10\n",
        "xmax = 10\n",
        "ymin = -10\n",
        "ymax = 10\n",
        "\n",
        "y3 = slope * xmin + intercept\n",
        "y4 = slope * xmax + intercept\n",
        "\n",
        "fig,ax = plt.subplots()\n",
        "plt.axis([xmin,xmax,ymin,ymax])\n",
        "\n",
        "plt.plot([xmin,xmax],[0,0],'k')\n",
        "plt.plot([0,0],[ymin,ymax],'k')\n",
        "\n",
        "plt.plot([xmin,xmax],[y3,y4],'b')\n",
        "\n",
        "plt.show()\n",
        "\n"
      ],
      "metadata": {
        "colab": {
          "base_uri": "https://localhost:8080/",
          "height": 452
        },
        "id": "3QAZUalqtaFN",
        "outputId": "92f58c18-8350-47bf-c839-19ac5e12eec8"
      },
      "execution_count": null,
      "outputs": [
        {
          "output_type": "stream",
          "name": "stdout",
          "text": [
            "Equation in slope-intercept form is y = 3.0 x + 4.0\n"
          ]
        },
        {
          "output_type": "display_data",
          "data": {
            "text/plain": [
              "<Figure size 640x480 with 1 Axes>"
            ],
            "image/png": "[encoded data removed]"
          },
          "metadata": {}
        }
      ]
    },
    {
      "cell_type": "markdown",
      "source": [
        "## **Fraction in its simplest form**"
      ],
      "metadata": {
        "id": "v_PHd7XEzWki"
      }
    },
    {
      "cell_type": "code",
      "source": [
        "num = 12\n",
        "den = 45\n",
        "factor = 1\n",
        "for test in range(1,den+1):\n",
        "  if num % test == 0 and den % test == 0:\n",
        "    factor = test\n",
        "\n",
        "num1 = num//factor\n",
        "den1 = den//factor\n",
        "\n",
        "print('original: ',num,'/',den,sep='')\n",
        "print('reduced: ',num1,'/',den1,sep='')"
      ],
      "metadata": {
        "colab": {
          "base_uri": "https://localhost:8080/"
        },
        "id": "kH-TrsuvyKfW",
        "outputId": "386bc4cb-2c77-465e-efe0-666c0faf38b8"
      },
      "execution_count": null,
      "outputs": [
        {
          "output_type": "stream",
          "name": "stdout",
          "text": [
            "original: 12/45\n",
            "reduced: 4/15\n"
          ]
        }
      ]
    },
    {
      "cell_type": "code",
      "source": [
        "\n",
        "digits = input(\"Enter the decimal number to convert: \")\n",
        "\n",
        "exponent = int(len(digits))-1\n",
        "\n",
        "n = float(digits)\n",
        "\n",
        "num = int(n*10**exponent)\n",
        "den = int(10**exponent)\n",
        "factor = 1\n",
        "\n",
        "for test in range(1,den+1):\n",
        "  if num % test == 0 and den % test == 0:\n",
        "    factor = test\n",
        "\n",
        "num1 = num//factor\n",
        "den1 = den//factor\n",
        "\n",
        "percent = n*100\n",
        "\n",
        "print('The decimal is ',n)\n",
        "print('The fraction is ',num,'/',den,sep='')\n",
        "print('The reduced fraction is ',num1,'/',den1,sep='')\n",
        "print('The percentage is ',percent,'%')"
      ],
      "metadata": {
        "colab": {
          "base_uri": "https://localhost:8080/"
        },
        "id": "F7yLg3H60GDx",
        "outputId": "5ea8f016-90e6-49c3-802f-0a5aedf4ae3a"
      },
      "execution_count": null,
      "outputs": [
        {
          "output_type": "stream",
          "name": "stdout",
          "text": [
            "Enter the decimal number to convert: .325\n",
            "The decimal is  0.325\n",
            "The fraction is 325/1000\n",
            "The reduced fraction is 13/40\n",
            "The percentage is  32.5 %\n"
          ]
        }
      ]
    },
    {
      "cell_type": "markdown",
      "source": [
        "## **Symplifying a Square Root**"
      ],
      "metadata": {
        "id": "ESSe2fYZ3FGs"
      }
    },
    {
      "cell_type": "code",
      "source": [
        "import math\n",
        "import sympy\n",
        "from sympy import symbols\n",
        "\n",
        "n = 24\n",
        "\n",
        "upper_limit = math.ceil(math.sqrt(n))\n",
        "max_factor = 1\n",
        "other_factor = 1\n",
        "square_root = 1\n",
        "\n",
        "for temp_factor in range(1,upper_limit):\n",
        "  if n % temp_factor**2 == 0:\n",
        "    max_factor = temp_factor**2\n",
        "\n",
        "other_factor = n//max_factor\n",
        "square_root = int(math.sqrt(max_factor))\n",
        "\n",
        "sym = square_root * sympy.sqrt(other_factor)\n",
        "\n",
        "sym"
      ],
      "metadata": {
        "colab": {
          "base_uri": "https://localhost:8080/",
          "height": 38
        },
        "id": "Kvg75vux3JrC",
        "outputId": "0fa9cb1f-c723-479c-eea7-4df31a68294a"
      },
      "execution_count": null,
      "outputs": [
        {
          "output_type": "execute_result",
          "data": {
            "text/plain": [
              "2*sqrt(6)"
            ],
            "text/latex": "$\\displaystyle 2 \\sqrt{6}$"
          },
          "metadata": {},
          "execution_count": 42
        }
      ]
    },
    {
      "cell_type": "markdown",
      "source": [
        "## **Graphing Functions**"
      ],
      "metadata": {
        "id": "67v_7sQgq-5a"
      }
    },
    {
      "cell_type": "code",
      "source": [
        "import matplotlib.pyplot as plt\n",
        "import numpy as np\n",
        "\n",
        "fig,ax = plt.subplots()\n",
        "xmin = -10\n",
        "xmax = 10\n",
        "ymin = -10\n",
        "ymax = 10\n",
        "plt.axis([xmin,xmax,ymin,ymax])\n",
        "num_pts = 10*(xmax-xmin)\n",
        "x = np.linspace(xmin,xmax,num_pts)\n",
        "plt.plot([xmin,xmax],[0,0],'k')\n",
        "plt.plot([0,0],[xmin,xmax],'k')\n",
        "plt.plot(x,x**3,'r')\n",
        "plt.plot(x,-3*x+2,'g')\n",
        "plt.show()"
      ],
      "metadata": {
        "colab": {
          "base_uri": "https://localhost:8080/",
          "height": 435
        },
        "id": "XnhbHaXMkrLY",
        "outputId": "1aac55e9-c5b7-49db-ded1-8c1a58a1a78b"
      },
      "execution_count": null,
      "outputs": [
        {
          "output_type": "display_data",
          "data": {
            "text/plain": [
              "<Figure size 640x480 with 1 Axes>"
            ],
            "image/png": "[encoded data removed]"
          },
          "metadata": {}
        }
      ]
    },
    {
      "cell_type": "code",
      "source": [
        "import matplotlib.pyplot as plt\n",
        "import numpy as np\n",
        "\n",
        "fig,ax = plt.subplots()\n",
        "xmin = -10\n",
        "xmax = 10\n",
        "ymin = -10\n",
        "ymax = 10\n",
        "plt.axis([xmin,xmax,ymin,ymax])\n",
        "num_pts = 10*(xmax-xmin)\n",
        "x = np.linspace(xmin,xmax,num_pts)\n",
        "plt.plot([xmin,xmax],[0,0],'k')\n",
        "plt.plot([0,0],[xmin,xmax],'k')\n",
        "y1 = 3*x + 6\n",
        "y2 = 3*x + 4\n",
        "y3 = 3*x + 2\n",
        "y4 = 3*x\n",
        "plt.plot(x,y1)\n",
        "plt.fill_between(x,y1,ymax,facecolor='cyan')\n",
        "plt.plot(x,y2)\n",
        "plt.fill_between(x,y2,y1,facecolor='blue')\n",
        "plt.plot(x,y3)\n",
        "plt.fill_between(x,y3,y2,facecolor='yellow')\n",
        "plt.plot(x,y4)\n",
        "plt.fill_between(x,y4,y3,facecolor='green')\n",
        "plt.show()"
      ],
      "metadata": {
        "colab": {
          "base_uri": "https://localhost:8080/",
          "height": 435
        },
        "id": "lXMsLlEQq9IT",
        "outputId": "59c04d9e-111f-4505-b40e-dc433a52345d"
      },
      "execution_count": null,
      "outputs": [
        {
          "output_type": "display_data",
          "data": {
            "text/plain": [
              "<Figure size 640x480 with 1 Axes>"
            ],
            "image/png": "[encoded data removed]"
          },
          "metadata": {}
        }
      ]
    },
    {
      "cell_type": "markdown",
      "source": [
        "## **Interactive Graphs**"
      ],
      "metadata": {
        "id": "fLOBLkkskPhu"
      }
    },
    {
      "cell_type": "code",
      "source": [
        "from ipywidgets import interactive\n",
        "import matplotlib.pyplot as plt\n",
        "import numpy as np\n",
        "\n",
        "# defining the graphing function\n",
        "\n",
        "def f(m,c,zoom):\n",
        "  xmin = -zoom\n",
        "  ymin = -zoom\n",
        "  xmax = zoom\n",
        "  ymax = zoom\n",
        "\n",
        "  num_pts = 2*(xmax-xmin)\n",
        "\n",
        "  x = np.linspace(xmin,xmax,num_pts)\n",
        "\n",
        "  plt.axis([xmin,xmax,ymin,ymax])\n",
        "  plt.plot([xmin,xmax],[0,0],'k')\n",
        "  plt.plot([0,0],[xmin,xmax],'k')\n",
        "\n",
        "  plt.title('y=mx+c')\n",
        "  plt.plot(x,m*x+c)\n",
        "  plt.show()\n",
        "\n",
        "# setting up the slider\n",
        "interactive_plot = interactive(f,m=(-9,9),c=(-9,9),zoom=(1,100))\n",
        "interactive_plot"
      ],
      "metadata": {
        "colab": {
          "base_uri": "https://localhost:8080/",
          "height": 548,
          "referenced_widgets": [
            "1a75fb93c68e48ee8790178bad6e7ab0",
            "73fe556f48a147d1b63a4406426ef172",
            "1b2e4f1f11054def8cffc257a605435a",
            "8276be32df4c4693acc7b4574d0e412a",
            "c101ce74fd824bd7ab3229e1f7963653",
            "6c24b620ca704eab833d1adb54061bfa",
            "f4342720cb9b4cf08aba34997dccb754",
            "a1fa8ed50668477aa447cbaadf6d492d",
            "db674d972aa245fc9fdcb5bc79e8d49e",
            "cb17c9c88646498aae75731e4b180913",
            "d2b281c8d8d84090b83e7cbc682d7d99",
            "ef888f4a2ce141a1b10b9be830ff161c",
            "8705ed74b69f40f284366063b7c9b326"
          ]
        },
        "id": "Fa4-z-9Ljdrv",
        "outputId": "d465561b-3cc8-464a-dd16-73cf8d7a196e"
      },
      "execution_count": null,
      "outputs": [
        {
          "output_type": "display_data",
          "data": {
            "text/plain": [
              "interactive(children=(IntSlider(value=0, description='m', max=9, min=-9), IntSlider(value=0, description='c', …"
            ],
            "application/vnd.jupyter.widget-view+json": {
              "version_major": 2,
              "version_minor": 0,
              "model_id": "1a75fb93c68e48ee8790178bad6e7ab0"
            }
          },
          "metadata": {}
        }
      ]
    },
    {
      "cell_type": "code",
      "source": [
        "from ipywidgets import interactive\n",
        "import matplotlib.pyplot as plt\n",
        "import numpy as np\n",
        "\n",
        "def f(zoom):\n",
        "  xmin = -zoom\n",
        "  ymin = -zoom\n",
        "  ymax = zoom\n",
        "  xmax= zoom\n",
        "  num_pts = 10*(xmax-xmin)\n",
        "\n",
        "  x = np.linspace(xmin,xmax,num_pts)\n",
        "\n",
        "  fig,ax = plt.subplots()\n",
        "\n",
        "  plt.axis([xmin,xmax,ymin,ymax])\n",
        "  plt.plot([xmin,xmax],[0,0],'k')\n",
        "  plt.plot([0,0],[ymin,ymax],'k')\n",
        "\n",
        "  plt.plot(x,3*x**2-4)\n",
        "  plt.plot(x,3*x-2)\n",
        "\n",
        "  ticks = (xmax-xmin)//20\n",
        "  ax.set_xlabel('x-axis')\n",
        "  ax.set_ylabel('y-axis')\n",
        "  ax.set_title('Graph')\n",
        "  ax.set_xticks(np.arange(xmin,xmax,ticks))\n",
        "  ax.set_yticks(np.arange(ymin,ymax,ticks))\n",
        "  ax.grid(True)\n",
        "\n",
        "  plt.show()\n",
        "\n",
        "interactive_plot = interactive(f,zoom=(1,100))\n",
        "interactive_plot\n"
      ],
      "metadata": {
        "colab": {
          "base_uri": "https://localhost:8080/",
          "height": 504,
          "referenced_widgets": [
            "49eaade6259e46efae136050495a12c2",
            "378028aff47345f78546ca14d9554232",
            "c250c46196134799ae1a127fa08c1c72",
            "8cb6936720044c8087da7a59e086c14b",
            "53b0d39fead04c15930fd9cad79a5ec7",
            "ca9650ea202f473a8175798f5545dc72",
            "dcc00fa089cd475e898961fb2819021f"
          ]
        },
        "id": "KHERDZgzyH6L",
        "outputId": "70e8d36e-bf45-45a4-ba6c-739e1dfe9963"
      },
      "execution_count": null,
      "outputs": [
        {
          "output_type": "display_data",
          "data": {
            "text/plain": [
              "interactive(children=(IntSlider(value=50, description='zoom', min=1), Output()), _dom_classes=('widget-interac…"
            ],
            "application/vnd.jupyter.widget-view+json": {
              "version_major": 2,
              "version_minor": 0,
              "model_id": "49eaade6259e46efae136050495a12c2"
            }
          },
          "metadata": {}
        }
      ]
    },
    {
      "cell_type": "markdown",
      "source": [
        "## **Meteostat library and dependencies**"
      ],
      "metadata": {
        "id": "C1-BurnNpBYt"
      }
    },
    {
      "cell_type": "code",
      "source": [
        "pip install meteostat"
      ],
      "metadata": {
        "colab": {
          "base_uri": "https://localhost:8080/"
        },
        "id": "OtpB1CVMpGq_",
        "outputId": "a5da419f-c866-4a4d-995a-784829a0cfb3"
      },
      "execution_count": null,
      "outputs": [
        {
          "output_type": "stream",
          "name": "stdout",
          "text": [
            "Collecting meteostat\n",
            "  Downloading meteostat-1.6.5-py3-none-any.whl (31 kB)\n",
            "Requirement already satisfied: pandas>=1.1 in /usr/local/lib/python3.10/dist-packages (from meteostat) (1.5.3)\n",
            "Requirement already satisfied: pytz in /usr/local/lib/python3.10/dist-packages (from meteostat) (2022.7.1)\n",
            "Requirement already satisfied: numpy in /usr/local/lib/python3.10/dist-packages (from meteostat) (1.22.4)\n",
            "Requirement already satisfied: python-dateutil>=2.8.1 in /usr/local/lib/python3.10/dist-packages (from pandas>=1.1->meteostat) (2.8.2)\n",
            "Requirement already satisfied: six>=1.5 in /usr/local/lib/python3.10/dist-packages (from python-dateutil>=2.8.1->pandas>=1.1->meteostat) (1.16.0)\n",
            "Installing collected packages: meteostat\n",
            "Successfully installed meteostat-1.6.5\n"
          ]
        }
      ]
    },
    {
      "cell_type": "code",
      "source": [
        "from datetime import datetime\n",
        "import matplotlib.pyplot as plt\n",
        "from meteostat import Point,Daily\n",
        "\n",
        "start = datetime(2023,3,3)\n",
        "end = datetime(2023,7,3)\n",
        "\n",
        "delhi = Point(28.70,77.10)\n",
        "\n",
        "data = Daily(delhi,start,end)\n",
        "data = data.fetch()\n",
        "data.plot(y=['tmin','tmax','tavg'])\n",
        "plt.show()"
      ],
      "metadata": {
        "colab": {
          "base_uri": "https://localhost:8080/",
          "height": 466
        },
        "id": "2G7KTEvWpx9p",
        "outputId": "13c31cfa-69e6-46dc-9a75-d945f75577d1"
      },
      "execution_count": null,
      "outputs": [
        {
          "output_type": "display_data",
          "data": {
            "text/plain": [
              "<Figure size 640x480 with 1 Axes>"
            ],
            "image/png": "[encoded data removed]"
          },
          "metadata": {}
        }
      ]
    },
    {
      "cell_type": "markdown",
      "source": [
        "## **Solving System of Equation**"
      ],
      "metadata": {
        "id": "SFzmdq9Tr4am"
      }
    },
    {
      "cell_type": "code",
      "source": [
        "from sympy import *\n",
        "\n",
        "x,y = symbols('x y')\n",
        "\n",
        "eqn1 = x + 2*y + 3\n",
        "eqn2 = x - y + 5\n",
        "# both the eqn are set to zero\n",
        "\n",
        "# print(linsolve([eqn1,eqn2],(x,y)))\n",
        "\n",
        "solution = linsolve([eqn1,eqn2],(x,y))\n",
        "\n",
        "x_sol = solution.args[0][0]\n",
        "y_sol = solution.args[0][1]\n",
        "\n",
        "print(f'x = {x_sol}, y = {y_sol}')"
      ],
      "metadata": {
        "colab": {
          "base_uri": "https://localhost:8080/"
        },
        "id": "OqjoB3cDr339",
        "outputId": "d448799f-d29c-4194-a9ef-4857bb09f3c1"
      },
      "execution_count": null,
      "outputs": [
        {
          "output_type": "stream",
          "name": "stdout",
          "text": [
            "x = -13/3, y = 2/3\n"
          ]
        }
      ]
    },
    {
      "cell_type": "markdown",
      "source": [
        "**plotting them**"
      ],
      "metadata": {
        "id": "z4Sov6d7uUW1"
      }
    },
    {
      "cell_type": "code",
      "source": [
        "from sympy import *\n",
        "\n",
        "var('x y')\n",
        "\n",
        "eqn1 = x + 2*y + 3\n",
        "eqn2 = x - y + 5\n",
        "# both the eqn are set to zero\n",
        "\n",
        "# print(linsolve([eqn1,eqn2],(x,y)))\n",
        "\n",
        "solution = linsolve([eqn1,eqn2],(x,y))\n",
        "\n",
        "x_sol = solution.args[0][0]\n",
        "y_sol = solution.args[0][1]\n",
        "\n",
        "print(f'x = {x_sol}, y = {y_sol}')\n",
        "\n",
        "\n",
        "y_first = Eq(eqn1,0)\n",
        "y1 = solve(y_first,y)\n",
        "\n",
        "y_second = Eq(eqn2,0)\n",
        "y2 = solve(y_second,y)\n",
        "\n",
        "print('\\nboth the eqn in the form of y = mx + c')\n",
        "print('y = ',y1[0])\n",
        "print('y = ',y2[0])\n",
        "\n",
        "x = symbols('x')\n",
        "plot(y1[0],y2[0],(x,-10,10))"
      ],
      "metadata": {
        "colab": {
          "base_uri": "https://localhost:8080/",
          "height": 591
        },
        "id": "t9_5h7mcuQVI",
        "outputId": "c9a5f920-f2b1-47a7-e18a-8d640b84587e"
      },
      "execution_count": null,
      "outputs": [
        {
          "output_type": "stream",
          "name": "stdout",
          "text": [
            "x = -13/3, y = 2/3\n",
            "\n",
            "both the eqn in the form of y = mx + c\n",
            "y =  -x/2 - 3/2\n",
            "y =  x + 5\n"
          ]
        },
        {
          "output_type": "display_data",
          "data": {
            "text/plain": [
              "<Figure size 640x480 with 1 Axes>"
            ],
            "image/png": "[encoded data removed]"
          },
          "metadata": {}
        },
        {
          "output_type": "execute_result",
          "data": {
            "text/plain": [
              "<sympy.plotting.plot.Plot at 0x7f3627ea3f10>"
            ]
          },
          "metadata": {},
          "execution_count": 20
        }
      ]
    },
    {
      "cell_type": "code",
      "source": [
        "from sympy import *\n",
        "from sympy.plotting import plot\n",
        "\n",
        "\n",
        "var('x y')\n",
        "\n",
        "eqn1 = -x**2-y+10\n",
        "eqn2 = 2*x**2-2*y-4\n",
        "\n",
        "sol = nonlinsolve([eqn1,eqn2],(x,y))\n",
        "for i in range(len(sol.args)):\n",
        "  x_sol = sol.args[i][0]\n",
        "  y_sol = sol.args[i][1]\n",
        "\n",
        "  print(f'Solution = ({x_sol}, {y_sol})')\n",
        "\n",
        "y_first = Eq(eqn1,0)\n",
        "y1 = solve(y_first,y)\n",
        "\n",
        "y_second = Eq(eqn2,0)\n",
        "y2 = solve(y_second,y)\n",
        "\n",
        "print(f'y = {y1[0]}\\ny = {y2[0]}')\n",
        "\n",
        "\n",
        "x = symbols('x')\n",
        "\n",
        "xmin = -10\n",
        "xmax = 10\n",
        "\n",
        "plot(y2[0],y1[0],(x,xmin,xmax))\n"
      ],
      "metadata": {
        "colab": {
          "base_uri": "https://localhost:8080/",
          "height": 574
        },
        "id": "o_fkGax14kYN",
        "outputId": "a063af7e-4937-4861-c3f3-87e4dba73f03"
      },
      "execution_count": null,
      "outputs": [
        {
          "output_type": "stream",
          "name": "stdout",
          "text": [
            "Solution = (sqrt(6), 4)\n",
            "Solution = (-sqrt(6), 4)\n",
            "y = 10 - x**2\n",
            "y = x**2 - 2\n"
          ]
        },
        {
          "output_type": "display_data",
          "data": {
            "text/plain": [
              "<Figure size 640x480 with 1 Axes>"
            ],
            "image/png": "[encoded data removed]"
          },
          "metadata": {}
        },
        {
          "output_type": "execute_result",
          "data": {
            "text/plain": [
              "<sympy.plotting.plot.Plot at 0x7f3627661cc0>"
            ]
          },
          "metadata": {},
          "execution_count": 29
        }
      ]
    },
    {
      "cell_type": "markdown",
      "source": [
        "## **Quadratic Equation**"
      ],
      "metadata": {
        "id": "CwFy4SNL-EAI"
      }
    },
    {
      "cell_type": "code",
      "source": [
        "import math\n",
        "a = 2\n",
        "b = 4\n",
        "c = 1\n",
        "\n",
        "print(f'y = {a}x^2+{b}x+{c}')\n",
        "\n",
        "vx = -b/(2*a)\n",
        "vy = a*vx**2+b*vx+c\n",
        "\n",
        "print(f'vertex: ({vx},{vy})')\n",
        "\n",
        "d = b**2-4*a*c\n",
        "\n",
        "if d>=0:\n",
        "  r1 = (-b+math.sqrt(d))/(2*a)\n",
        "  r2 = (-b-math.sqrt(d))/(2*a)\n",
        "\n",
        "  print(f'roots are {r1} and {r2}')\n",
        "\n",
        "else:\n",
        "  print('no real roots')"
      ],
      "metadata": {
        "colab": {
          "base_uri": "https://localhost:8080/"
        },
        "id": "blh0nk9R-DmX",
        "outputId": "b02e6a79-c31d-41cd-c2ac-eb5eaa860de7"
      },
      "execution_count": null,
      "outputs": [
        {
          "output_type": "stream",
          "name": "stdout",
          "text": [
            "y = 2x^2+4x+1\n",
            "vertex: (-1.0,-1.0)\n",
            "roots are -0.2928932188134524 and -1.7071067811865475\n"
          ]
        }
      ]
    },
    {
      "cell_type": "code",
      "source": [
        "import matplotlib.pyplot as plt\n",
        "import numpy as np\n",
        "import math\n",
        "\n",
        "a = 2\n",
        "b = 4\n",
        "c = 1\n",
        "\n",
        "xmin = -10\n",
        "xmax = 10\n",
        "ymin = -10\n",
        "ymax = 10\n",
        "\n",
        "fig,ax = plt.subplots()\n",
        "plt.axis([xmin,xmax,ymin,ymax])\n",
        "plt.plot([xmin,xmax],[0,0],'r')\n",
        "plt.plot([0,0],[ymin,ymax],'r')\n",
        "\n",
        "x = np.linspace(xmin,xmax,10*(xmax-xmin))\n",
        "plt.plot(x,a*x**2+b*x+c)\n",
        "\n",
        "\n",
        "\n",
        "#vertex\n",
        "vx = -b/(2*a)\n",
        "vy = a*vx**2+b*vx+c\n",
        "print(vx,vy)\n",
        "plt.plot([vx],[vy],'go')\n",
        "\n",
        "#roots\n",
        "d = b**2-4*a*c\n",
        "\n",
        "if d>=0:\n",
        "  r1 = (-b+math.sqrt(d))/(2*a)\n",
        "  r2 = (-b-math.sqrt(d))/(2*a)\n",
        "  plt.plot([r1],[0],'bo')\n",
        "  plt.plot([r2],[0],'bo')\n",
        "\n",
        "\n",
        "plt.show()"
      ],
      "metadata": {
        "colab": {
          "base_uri": "https://localhost:8080/",
          "height": 452
        },
        "id": "tNb5fMCAg73u",
        "outputId": "e06d518b-47b2-455a-83a4-2d27d521419c"
      },
      "execution_count": null,
      "outputs": [
        {
          "output_type": "stream",
          "name": "stdout",
          "text": [
            "-1.0 -1.0\n"
          ]
        },
        {
          "output_type": "display_data",
          "data": {
            "text/plain": [
              "<Figure size 640x480 with 1 Axes>"
            ],
            "image/png": "[encoded data removed]"
          },
          "metadata": {}
        }
      ]
    },
    {
      "cell_type": "code",
      "source": [
        "from ipywidgets import interactive\n",
        "import matplotlib.pyplot as plt\n",
        "import numpy as np\n",
        "import math\n",
        "\n",
        "def f(a,b,c,zoom):\n",
        "  xmin = -zoom\n",
        "  xmax = zoom\n",
        "  ymin = -zoom\n",
        "  ymax = zoom\n",
        "\n",
        "  fig,ax = plt.subplots()\n",
        "  plt.axis([xmin,xmax,ymin,ymax])\n",
        "  plt.plot([xmin,xmax],[0,0],'r')\n",
        "  plt.plot([0,0],[ymin,ymax],'r')\n",
        "\n",
        "  x = np.linspace(xmin,xmax,100*(xmax-xmin))\n",
        "  plt.plot(x,a*(x**2)+b*x+c)\n",
        "\n",
        "\n",
        "\n",
        "  #vertex\n",
        "  vx = -b/(2*a)\n",
        "  vy = a*(vx**2)+b*vx+c\n",
        "  print(vx,vy)\n",
        "  plt.plot([vx],[vy],'go')\n",
        "\n",
        "  #roots\n",
        "  d = b**2-4*a*c\n",
        "  if d>=0:\n",
        "    r1 = (-b+math.sqrt(d))/(2*a)\n",
        "    r2 = (-b-math.sqrt(d))/(2*a)\n",
        "    plt.plot([r1,r2],[0,0],'bo')\n",
        "\n",
        "  ax.grid(True)\n",
        "  plt.title(f'Graph of {a}x^2+{b}x+{c}')\n",
        "  plt.show()\n",
        "\n",
        "\n",
        "interactive_plot = interactive(f,a=(1,9),b=(-9,9),c=(-9,9),zoom=(1,100))\n",
        "interactive_plot"
      ],
      "metadata": {
        "colab": {
          "base_uri": "https://localhost:8080/",
          "height": 597,
          "referenced_widgets": [
            "c8fc623509d24c87a439379316318b38",
            "eaa79494399943c095412ef705aad993",
            "df48cc2ff53d4be89adcebb9919ff133",
            "71d28effece84a3187c7c8af025bc6af",
            "df234c37b253436cb6e40a929803708a",
            "896648affa4544039aae77f1a919bc1e",
            "7da877f4e5df4f3f9da9361fc2f94fa0",
            "0da3e99412c64d69811d75e22fb62c1d",
            "ba1e2d5cf6b3450aaaf14f6064723a2b",
            "97d4d364aa0047cdb5c5e9525ae080d5",
            "2715e9e200334ac1bb5f715161989541",
            "d89f640f5184420d9b6d2032dd4a6e71",
            "9a67636f394f42d9a20ba2554118cc45",
            "e775fd0b14324d70a599b3e99d40bccb",
            "7db4c698cfb440329497957172b1ae71",
            "05a1f0b633654cdca2247e64fb5ebd4f"
          ]
        },
        "id": "pfFzw3hHkMlN",
        "outputId": "b0f28fbe-ac8b-46d3-bf9f-efae3b4801ac"
      },
      "execution_count": null,
      "outputs": [
        {
          "output_type": "display_data",
          "data": {
            "text/plain": [
              "interactive(children=(IntSlider(value=5, description='a', max=9, min=1), IntSlider(value=0, description='b', m…"
            ],
            "application/vnd.jupyter.widget-view+json": {
              "version_major": 2,
              "version_minor": 0,
              "model_id": "c8fc623509d24c87a439379316318b38"
            }
          },
          "metadata": {}
        }
      ]
    },
    {
      "cell_type": "markdown",
      "source": [
        "## **Simple Interest**"
      ],
      "metadata": {
        "id": "xYvQf_3arFhd"
      }
    },
    {
      "cell_type": "code",
      "source": [
        "p = 1000\n",
        "r = .05\n",
        "t = 1\n",
        "interest = p*r*t\n",
        "print('Original amount =',p)\n",
        "print(\"interest = \", interest)\n",
        "a = p + interest\n",
        "print(\"New amount = \", a)"
      ],
      "metadata": {
        "colab": {
          "base_uri": "https://localhost:8080/"
        },
        "id": "0qfNOrdcrRnO",
        "outputId": "055a1de4-9d89-4aeb-8b13-3c81744007ed"
      },
      "execution_count": null,
      "outputs": [
        {
          "output_type": "stream",
          "name": "stdout",
          "text": [
            "Original amount = 1000\n",
            "interest =  50.0\n",
            "New amount =  1050.0\n"
          ]
        }
      ]
    },
    {
      "cell_type": "markdown",
      "source": [
        "\n",
        "## **Compound Interest**"
      ],
      "metadata": {
        "id": "Mc-27OjyrFbp"
      }
    },
    {
      "cell_type": "markdown",
      "source": [
        "Compounding is adding the interest to the principle and then calculating percent increase from this new amount"
      ],
      "metadata": {
        "id": "1330a64Xr5Ql"
      }
    },
    {
      "cell_type": "code",
      "source": [
        "P = 1000\n",
        "r = .05\n",
        "t = 3\n",
        "annuity = p*(1+r)**t\n",
        "\n",
        "print(\"Annuity = \", annuity)"
      ],
      "metadata": {
        "colab": {
          "base_uri": "https://localhost:8080/"
        },
        "id": "P3zMMHWZrsmq",
        "outputId": "a82946c6-82d2-44d2-8033-2efcfff77707"
      },
      "execution_count": null,
      "outputs": [
        {
          "output_type": "stream",
          "name": "stdout",
          "text": [
            "Annuity =  1157.6250000000002\n"
          ]
        }
      ]
    },
    {
      "cell_type": "markdown",
      "source": [
        "When the compunding happens `n` times per year, here is the formula:<br>\n",
        "A = P(1 +  $\\frac{r}{n})^{nt}$"
      ],
      "metadata": {
        "id": "ZbYKGnr1rzxN"
      }
    },
    {
      "cell_type": "code",
      "source": [
        "P = 1000\n",
        "r = .05\n",
        "t = 3\n",
        "n = 12\n",
        "\n",
        "\n",
        "annuity = p*(1+(r/n))**(n*t)\n",
        "\n",
        "print(\"Annuity = \", annuity)"
      ],
      "metadata": {
        "colab": {
          "base_uri": "https://localhost:8080/"
        },
        "id": "18MY7t3lrug_",
        "outputId": "ed989d7e-0584-4628-f953-c70dd2af6efc"
      },
      "execution_count": null,
      "outputs": [
        {
          "output_type": "stream",
          "name": "stdout",
          "text": [
            "Annuity =  1161.4722313334678\n"
          ]
        }
      ]
    },
    {
      "cell_type": "markdown",
      "source": [
        "Continuous growth: Annuity = Pe<sup>rt</sup>"
      ],
      "metadata": {
        "id": "HkDH7jaTsDR0"
      }
    },
    {
      "cell_type": "code",
      "source": [
        "import math\n",
        "p = 1000\n",
        "r = .05\n",
        "t = 3\n",
        "n = 1000\n",
        "\n",
        "n_times = p*(1+(r/n))**(n*t) # for very large value of n\n",
        "continuous = p*math.e**(r*t)\n",
        "print(n_times, \" or \", continuous)"
      ],
      "metadata": {
        "colab": {
          "base_uri": "https://localhost:8080/"
        },
        "id": "QtIbAmlgr8BA",
        "outputId": "230c14cd-77c8-462b-cc85-6093bb886132"
      },
      "execution_count": null,
      "outputs": [
        {
          "output_type": "stream",
          "name": "stdout",
          "text": [
            "1161.8298860036332  or  1161.834242728283\n"
          ]
        }
      ]
    },
    {
      "cell_type": "markdown",
      "source": [
        "## **Mortgage formula**<br>\n",
        "monthly payment = P$\\frac{\\frac{r}{12}(1 + \\frac{r}{12})^{12t}}{(1 + \\frac{r}{12})^{12t} - 1}$"
      ],
      "metadata": {
        "id": "CIorEa2IsZ5E"
      }
    },
    {
      "cell_type": "code",
      "source": [
        "p = 240000\n",
        "r = .055\n",
        "t = 30\n",
        "\n",
        "numerator = (r/12)*(1+(r/12))**(12*t)\n",
        "denominator = (1+(r/12))**(12*t) - 1\n",
        "payment = round(p*numerator/denominator, 2)\n",
        "\n",
        "print(\"monthly payment = \", payment)"
      ],
      "metadata": {
        "colab": {
          "base_uri": "https://localhost:8080/"
        },
        "id": "AhLXTLo5sTyC",
        "outputId": "dcf4ea19-562d-483b-9551-cac9ba073070"
      },
      "execution_count": null,
      "outputs": [
        {
          "output_type": "stream",
          "name": "stdout",
          "text": [
            "monthly payment =  1362.69\n"
          ]
        }
      ]
    },
    {
      "cell_type": "markdown",
      "source": [
        "**Amortization:** mortgage payment schedule"
      ],
      "metadata": {
        "id": "E2NhjUIus_u7"
      }
    },
    {
      "cell_type": "code",
      "source": [
        "p = 240000.00\n",
        "r = .055\n",
        "t = 30\n",
        "\n",
        "\n",
        "# Break down that formula into parts\n",
        "numerator = (r/12)*(1+(r/12))**(12*t)\n",
        "denominator = (1+(r/12))**(12*t) - 1\n",
        "payment = round(p* numerator/denominator, 2)\n",
        "\n",
        "print(\"payment = \", payment)\n",
        "\n",
        "# loop to show interest amounts\n",
        "balance = p\n",
        "print(\"month \\t balance \\t interest\")\n",
        "for a in range(12*t):\n",
        "    interest = round(balance*r/12, 2)\n",
        "    if a%24==0 or a==359:\n",
        "        print(a, \"\\t\", balance, \"\\t\", interest)\n",
        "    balance = round(balance+interest-payment,2)"
      ],
      "metadata": {
        "colab": {
          "base_uri": "https://localhost:8080/"
        },
        "id": "jowloZmwtCEl",
        "outputId": "7ceef5cb-8807-4602-bbf9-8c2d1e9acb87"
      },
      "execution_count": null,
      "outputs": [
        {
          "output_type": "stream",
          "name": "stdout",
          "text": [
            "payment =  1362.69\n",
            "month \t balance \t interest\n",
            "0 \t 240000.0 \t 1100.0\n",
            "24 \t 233351.69 \t 1069.53\n",
            "48 \t 225932.19 \t 1035.52\n",
            "72 \t 217652.04 \t 997.57\n",
            "96 \t 208411.46 \t 955.22\n",
            "120 \t 198098.97 \t 907.95\n",
            "144 \t 186590.25 \t 855.21\n",
            "168 \t 173746.54 \t 796.34\n",
            "192 \t 159412.99 \t 730.64\n",
            "216 \t 143416.81 \t 657.33\n",
            "240 \t 125565.08 \t 575.51\n",
            "264 \t 105642.58 \t 484.2\n",
            "288 \t 83409.15 \t 382.29\n",
            "312 \t 58596.68 \t 268.57\n",
            "336 \t 30906.0 \t 141.65\n",
            "359 \t 1359.74 \t 6.23\n"
          ]
        }
      ]
    },
    {
      "cell_type": "markdown",
      "source": [
        "## **Retirement account estimation**"
      ],
      "metadata": {
        "id": "VZ-6agpjtwL_"
      }
    },
    {
      "cell_type": "code",
      "source": [
        "# Change these variables\n",
        "p = 1000\n",
        "r = .08\n",
        "t = 38\n",
        "monthly = 350\n",
        "\n",
        "# The loop will update this variable\n",
        "annuity = p\n",
        "\n",
        "# loop for contribution and percent growth\n",
        "for a in range(12*t):\n",
        "    annuity = (annuity+monthly)*(1+(r/12))\n",
        "\n",
        "print(\"annuity = \", round(annuity, 2))\n",
        "print(\"Annual income from interest = \", round(annuity*r, 2))"
      ],
      "metadata": {
        "colab": {
          "base_uri": "https://localhost:8080/"
        },
        "id": "GXVZFp4qt0oj",
        "outputId": "715c104b-2e5c-493a-bc3a-26de862d380b"
      },
      "execution_count": null,
      "outputs": [
        {
          "output_type": "stream",
          "name": "stdout",
          "text": [
            "annuity =  1061597.32\n",
            "Annual income from interest =  84927.79\n"
          ]
        }
      ]
    },
    {
      "cell_type": "markdown",
      "source": [
        "## **Converting into scientific notation**"
      ],
      "metadata": {
        "id": "GuZ8Of463714"
      }
    },
    {
      "cell_type": "code",
      "source": [
        "import math\n",
        "\n",
        "a = 0.005\n",
        "\n",
        "exp = math.floor(math.log(a,10))\n",
        "n = round(a/10**exp,2)\n",
        "\n",
        "if n>=10:\n",
        "  exp += 1\n",
        "  n = a/10**exp\n",
        "\n",
        "print(f'{a} = {n}*10**{exp}')"
      ],
      "metadata": {
        "colab": {
          "base_uri": "https://localhost:8080/"
        },
        "id": "Zc1z3mBA3_z9",
        "outputId": "afc77be5-5d5a-44cb-ff6b-8e98a64a47cf"
      },
      "execution_count": null,
      "outputs": [
        {
          "output_type": "stream",
          "name": "stdout",
          "text": [
            "0.005=5.0*10**-3\n"
          ]
        }
      ]
    },
    {
      "cell_type": "markdown",
      "source": [
        "## **Time required for money to double, given the rate.**"
      ],
      "metadata": {
        "id": "anG1kt9Pv0w6"
      }
    },
    {
      "cell_type": "code",
      "source": [
        "import math\n",
        "\n",
        "r = float(input(\"Enter the annual rate as a decimal: \\n\"))\n",
        "t = math.log(2)/r\n",
        "print(\"Your money will double in \", t, \" years\")\n"
      ],
      "metadata": {
        "colab": {
          "base_uri": "https://localhost:8080/"
        },
        "id": "zHLZY7WUq84y",
        "outputId": "6a1ab2fa-eee6-49cf-8edf-5fef05b7ca0e"
      },
      "execution_count": 1,
      "outputs": [
        {
          "output_type": "stream",
          "name": "stdout",
          "text": [
            "Enter the annual rate as a decimal: \n",
            "100\n",
            "Your money will double in  0.006931471805599453  years\n"
          ]
        }
      ]
    },
    {
      "cell_type": "markdown",
      "source": [
        "## **Working With .csv Files**\n",
        "**Get a .csv file in three ways**\n",
        "\n",
        "*   uploading it from the local computer\n",
        "*   getting a url from user input\n",
        "*   putting the url in the code\n",
        "\n",
        "and\n",
        "\n",
        "**Use the Pandas library to save the .csv as a dataframe**"
      ],
      "metadata": {
        "id": "rwaUWJTSwjZM"
      }
    },
    {
      "cell_type": "code",
      "source": [
        "import pandas as pd\n",
        "import matplotlib.pyplot as plt\n",
        "import io\n",
        "from google.colab import files"
      ],
      "metadata": {
        "id": "K94IEB2Vwicu"
      },
      "execution_count": 2,
      "outputs": []
    },
    {
      "cell_type": "code",
      "source": [
        "uploaded = files.upload()\n",
        "file_name = next(iter(uploaded))\n",
        "table_1 = pd.read_csv(io.BytesIO(uploaded[file_name]))"
      ],
      "metadata": {
        "colab": {
          "base_uri": "https://localhost:8080/",
          "height": 222
        },
        "id": "lErLRCZnxQdB",
        "outputId": "aad8c5e0-b115-4efe-a78a-7d08b96888f4"
      },
      "execution_count": 4,
      "outputs": [
        {
          "output_type": "display_data",
          "data": {
            "text/plain": [
              "<IPython.core.display.HTML object>"
            ],
            "text/html": [
              "\n",
              "     <input type=\"file\" id=\"files-7bec5e3f-4936-4abd-97ab-46d7c1552860\" name=\"files[]\" multiple disabled\n",
              "        style=\"border:none\" />\n",
              "     <output id=\"result-7bec5e3f-4936-4abd-97ab-46d7c1552860\">\n",
              "      Upload widget is only available when the cell has been executed in the\n",
              "      current browser session. Please rerun this cell to enable.\n",
              "      </output>\n",
              "      <script>// Copyright 2017 Google LLC\n",
              "//\n",
              "// Licensed under the Apache License, Version 2.0 (the \"License\");\n",
              "// you may not use this file except in compliance with the License.\n",
              "// You may obtain a copy of the License at\n",
              "//\n",
              "//      http://www.apache.org/licenses/LICENSE-2.0\n",
              "//\n",
              "// Unless required by applicable law or agreed to in writing, software\n",
              "// distributed under the License is distributed on an \"AS IS\" BASIS,\n",
              "// WITHOUT WARRANTIES OR CONDITIONS OF ANY KIND, either express or implied.\n",
              "// See the License for the specific language governing permissions and\n",
              "// limitations under the License.\n",
              "\n",
              "/**\n",
              " * @fileoverview Helpers for google.colab Python module.\n",
              " */\n",
              "(function(scope) {\n",
              "function span(text, styleAttributes = {}) {\n",
              "  const element = document.createElement('span');\n",
              "  element.textContent = text;\n",
              "  for (const key of Object.keys(styleAttributes)) {\n",
              "    element.style[key] = styleAttributes[key];\n",
              "  }\n",
              "  return element;\n",
              "}\n",
              "\n",
              "// Max number of bytes which will be uploaded at a time.\n",
              "const MAX_PAYLOAD_SIZE = 100 * 1024;\n",
              "\n",
              "function _uploadFiles(inputId, outputId) {\n",
              "  const steps = uploadFilesStep(inputId, outputId);\n",
              "  const outputElement = document.getElementById(outputId);\n",
              "  // Cache steps on the outputElement to make it available for the next call\n",
              "  // to uploadFilesContinue from Python.\n",
              "  outputElement.steps = steps;\n",
              "\n",
              "  return _uploadFilesContinue(outputId);\n",
              "}\n",
              "\n",
              "// This is roughly an async generator (not supported in the browser yet),\n",
              "// where there are multiple asynchronous steps and the Python side is going\n",
              "// to poll for completion of each step.\n",
              "// This uses a Promise to block the python side on completion of each step,\n",
              "// then passes the result of the previous step as the input to the next step.\n",
              "function _uploadFilesContinue(outputId) {\n",
              "  const outputElement = document.getElementById(outputId);\n",
              "  const steps = outputElement.steps;\n",
              "\n",
              "  const next = steps.next(outputElement.lastPromiseValue);\n",
              "  return Promise.resolve(next.value.promise).then((value) => {\n",
              "    // Cache the last promise value to make it available to the next\n",
              "    // step of the generator.\n",
              "    outputElement.lastPromiseValue = value;\n",
              "    return next.value.response;\n",
              "  });\n",
              "}\n",
              "\n",
              "/**\n",
              " * Generator function which is called between each async step of the upload\n",
              " * process.\n",
              " * @param {string} inputId Element ID of the input file picker element.\n",
              " * @param {string} outputId Element ID of the output display.\n",
              " * @return {!Iterable<!Object>} Iterable of next steps.\n",
              " */\n",
              "function* uploadFilesStep(inputId, outputId) {\n",
              "  const inputElement = document.getElementById(inputId);\n",
              "  inputElement.disabled = false;\n",
              "\n",
              "  const outputElement = document.getElementById(outputId);\n",
              "  outputElement.innerHTML = '';\n",
              "\n",
              "  const pickedPromise = new Promise((resolve) => {\n",
              "    inputElement.addEventListener('change', (e) => {\n",
              "      resolve(e.target.files);\n",
              "    });\n",
              "  });\n",
              "\n",
              "  const cancel = document.createElement('button');\n",
              "  inputElement.parentElement.appendChild(cancel);\n",
              "  cancel.textContent = 'Cancel upload';\n",
              "  const cancelPromise = new Promise((resolve) => {\n",
              "    cancel.onclick = () => {\n",
              "      resolve(null);\n",
              "    };\n",
              "  });\n",
              "\n",
              "  // Wait for the user to pick the files.\n",
              "  const files = yield {\n",
              "    promise: Promise.race([pickedPromise, cancelPromise]),\n",
              "    response: {\n",
              "      action: 'starting',\n",
              "    }\n",
              "  };\n",
              "\n",
              "  cancel.remove();\n",
              "\n",
              "  // Disable the input element since further picks are not allowed.\n",
              "  inputElement.disabled = true;\n",
              "\n",
              "  if (!files) {\n",
              "    return {\n",
              "      response: {\n",
              "        action: 'complete',\n",
              "      }\n",
              "    };\n",
              "  }\n",
              "\n",
              "  for (const file of files) {\n",
              "    const li = document.createElement('li');\n",
              "    li.append(span(file.name, {fontWeight: 'bold'}));\n",
              "    li.append(span(\n",
              "        `(${file.type || 'n/a'}) - ${file.size} bytes, ` +\n",
              "        `last modified: ${\n",
              "            file.lastModifiedDate ? file.lastModifiedDate.toLocaleDateString() :\n",
              "                                    'n/a'} - `));\n",
              "    const percent = span('0% done');\n",
              "    li.appendChild(percent);\n",
              "\n",
              "    outputElement.appendChild(li);\n",
              "\n",
              "    const fileDataPromise = new Promise((resolve) => {\n",
              "      const reader = new FileReader();\n",
              "      reader.onload = (e) => {\n",
              "        resolve(e.target.result);\n",
              "      };\n",
              "      reader.readAsArrayBuffer(file);\n",
              "    });\n",
              "    // Wait for the data to be ready.\n",
              "    let fileData = yield {\n",
              "      promise: fileDataPromise,\n",
              "      response: {\n",
              "        action: 'continue',\n",
              "      }\n",
              "    };\n",
              "\n",
              "    // Use a chunked sending to avoid message size limits. See b/62115660.\n",
              "    let position = 0;\n",
              "    do {\n",
              "      const length = Math.min(fileData.byteLength - position, MAX_PAYLOAD_SIZE);\n",
              "      const chunk = new Uint8Array(fileData, position, length);\n",
              "      position += length;\n",
              "\n",
              "      const base64 = btoa(String.fromCharCode.apply(null, chunk));\n",
              "      yield {\n",
              "        response: {\n",
              "          action: 'append',\n",
              "          file: file.name,\n",
              "          data: base64,\n",
              "        },\n",
              "      };\n",
              "\n",
              "      let percentDone = fileData.byteLength === 0 ?\n",
              "          100 :\n",
              "          Math.round((position / fileData.byteLength) * 100);\n",
              "      percent.textContent = `${percentDone}% done`;\n",
              "\n",
              "    } while (position < fileData.byteLength);\n",
              "  }\n",
              "\n",
              "  // All done.\n",
              "  yield {\n",
              "    response: {\n",
              "      action: 'complete',\n",
              "    }\n",
              "  };\n",
              "}\n",
              "\n",
              "scope.google = scope.google || {};\n",
              "scope.google.colab = scope.google.colab || {};\n",
              "scope.google.colab._files = {\n",
              "  _uploadFiles,\n",
              "  _uploadFilesContinue,\n",
              "};\n",
              "})(self);\n",
              "</script> "
            ]
          },
          "metadata": {}
        },
        {
          "output_type": "error",
          "ename": "StopIteration",
          "evalue": "ignored",
          "traceback": [
            "\u001b[0;31m---------------------------------------------------------------------------\u001b[0m",
            "\u001b[0;31mStopIteration\u001b[0m                             Traceback (most recent call last)",
            "\u001b[0;32m<ipython-input-4-cb95b3db3229>\u001b[0m in \u001b[0;36m<cell line: 2>\u001b[0;34m()\u001b[0m\n\u001b[1;32m      1\u001b[0m \u001b[0muploaded\u001b[0m \u001b[0;34m=\u001b[0m \u001b[0mfiles\u001b[0m\u001b[0;34m.\u001b[0m\u001b[0mupload\u001b[0m\u001b[0;34m(\u001b[0m\u001b[0;34m)\u001b[0m\u001b[0;34m\u001b[0m\u001b[0;34m\u001b[0m\u001b[0m\n\u001b[0;32m----> 2\u001b[0;31m \u001b[0mfile_name\u001b[0m \u001b[0;34m=\u001b[0m \u001b[0mnext\u001b[0m\u001b[0;34m(\u001b[0m\u001b[0miter\u001b[0m\u001b[0;34m(\u001b[0m\u001b[0muploaded\u001b[0m\u001b[0;34m)\u001b[0m\u001b[0;34m)\u001b[0m\u001b[0;34m\u001b[0m\u001b[0;34m\u001b[0m\u001b[0m\n\u001b[0m\u001b[1;32m      3\u001b[0m \u001b[0mtable_1\u001b[0m \u001b[0;34m=\u001b[0m \u001b[0mpd\u001b[0m\u001b[0;34m.\u001b[0m\u001b[0mread_csv\u001b[0m\u001b[0;34m(\u001b[0m\u001b[0mio\u001b[0m\u001b[0;34m.\u001b[0m\u001b[0mBytesIO\u001b[0m\u001b[0;34m(\u001b[0m\u001b[0muploaded\u001b[0m\u001b[0;34m[\u001b[0m\u001b[0mfile_name\u001b[0m\u001b[0;34m]\u001b[0m\u001b[0;34m)\u001b[0m\u001b[0;34m)\u001b[0m\u001b[0;34m\u001b[0m\u001b[0;34m\u001b[0m\u001b[0m\n",
            "\u001b[0;31mStopIteration\u001b[0m: "
          ]
        }
      ]
    },
    {
      "cell_type": "code",
      "source": [
        "url = 'https://people.sc.fsu.edu/~jburkardt/data/csv/faithful.csv'\n",
        "table_1 = pd.read_csv(url)"
      ],
      "metadata": {
        "id": "tdx8q6Jix2XA"
      },
      "execution_count": 5,
      "outputs": []
    },
    {
      "cell_type": "code",
      "source": [
        "table_1\n"
      ],
      "metadata": {
        "colab": {
          "base_uri": "https://localhost:8080/",
          "height": 423
        },
        "id": "AY4pjTH2yAdb",
        "outputId": "da7a295e-2ea0-48e2-e072-fc11cd813a04"
      },
      "execution_count": 6,
      "outputs": [
        {
          "output_type": "execute_result",
          "data": {
            "text/plain": [
              "     Index   \"Eruption length (mins)\"  Eruption wait (mins)\n",
              "0        1                      3.600                    79\n",
              "1        2                      1.800                    54\n",
              "2        3                      3.333                    74\n",
              "3        4                      2.283                    62\n",
              "4        5                      4.533                    85\n",
              "..     ...                        ...                   ...\n",
              "267    268                      4.117                    81\n",
              "268    269                      2.150                    46\n",
              "269    270                      4.417                    90\n",
              "270    271                      1.817                    46\n",
              "271    272                      4.467                    74\n",
              "\n",
              "[272 rows x 3 columns]"
            ],
            "text/html": [
              "\n",
              "  <div id=\"df-b8570b95-6062-47c6-9c0a-d69f298421ed\">\n",
              "    <div class=\"colab-df-container\">\n",
              "      <div>\n",
              "<style scoped>\n",
              "    .dataframe tbody tr th:only-of-type {\n",
              "        vertical-align: middle;\n",
              "    }\n",
              "\n",
              "    .dataframe tbody tr th {\n",
              "        vertical-align: top;\n",
              "    }\n",
              "\n",
              "    .dataframe thead th {\n",
              "        text-align: right;\n",
              "    }\n",
              "</style>\n",
              "<table border=\"1\" class=\"dataframe\">\n",
              "  <thead>\n",
              "    <tr style=\"text-align: right;\">\n",
              "      <th></th>\n",
              "      <th>Index</th>\n",
              "      <th>\"Eruption length (mins)\"</th>\n",
              "      <th>Eruption wait (mins)</th>\n",
              "    </tr>\n",
              "  </thead>\n",
              "  <tbody>\n",
              "    <tr>\n",
              "      <th>0</th>\n",
              "      <td>1</td>\n",
              "      <td>3.600</td>\n",
              "      <td>79</td>\n",
              "    </tr>\n",
              "    <tr>\n",
              "      <th>1</th>\n",
              "      <td>2</td>\n",
              "      <td>1.800</td>\n",
              "      <td>54</td>\n",
              "    </tr>\n",
              "    <tr>\n",
              "      <th>2</th>\n",
              "      <td>3</td>\n",
              "      <td>3.333</td>\n",
              "      <td>74</td>\n",
              "    </tr>\n",
              "    <tr>\n",
              "      <th>3</th>\n",
              "      <td>4</td>\n",
              "      <td>2.283</td>\n",
              "      <td>62</td>\n",
              "    </tr>\n",
              "    <tr>\n",
              "      <th>4</th>\n",
              "      <td>5</td>\n",
              "      <td>4.533</td>\n",
              "      <td>85</td>\n",
              "    </tr>\n",
              "    <tr>\n",
              "      <th>...</th>\n",
              "      <td>...</td>\n",
              "      <td>...</td>\n",
              "      <td>...</td>\n",
              "    </tr>\n",
              "    <tr>\n",
              "      <th>267</th>\n",
              "      <td>268</td>\n",
              "      <td>4.117</td>\n",
              "      <td>81</td>\n",
              "    </tr>\n",
              "    <tr>\n",
              "      <th>268</th>\n",
              "      <td>269</td>\n",
              "      <td>2.150</td>\n",
              "      <td>46</td>\n",
              "    </tr>\n",
              "    <tr>\n",
              "      <th>269</th>\n",
              "      <td>270</td>\n",
              "      <td>4.417</td>\n",
              "      <td>90</td>\n",
              "    </tr>\n",
              "    <tr>\n",
              "      <th>270</th>\n",
              "      <td>271</td>\n",
              "      <td>1.817</td>\n",
              "      <td>46</td>\n",
              "    </tr>\n",
              "    <tr>\n",
              "      <th>271</th>\n",
              "      <td>272</td>\n",
              "      <td>4.467</td>\n",
              "      <td>74</td>\n",
              "    </tr>\n",
              "  </tbody>\n",
              "</table>\n",
              "<p>272 rows × 3 columns</p>\n",
              "</div>\n",
              "      <button class=\"colab-df-convert\" onclick=\"convertToInteractive('df-b8570b95-6062-47c6-9c0a-d69f298421ed')\"\n",
              "              title=\"Convert this dataframe to an interactive table.\"\n",
              "              style=\"display:none;\">\n",
              "        \n",
              "  <svg xmlns=\"http://www.w3.org/2000/svg\" height=\"24px\"viewBox=\"0 0 24 24\"\n",
              "       width=\"24px\">\n",
              "    <path d=\"M0 0h24v24H0V0z\" fill=\"none\"/>\n",
              "    <path d=\"M18.56 5.44l.94 2.06.94-2.06 2.06-.94-2.06-.94-.94-2.06-.94 2.06-2.06.94zm-11 1L8.5 8.5l.94-2.06 2.06-.94-2.06-.94L8.5 2.5l-.94 2.06-2.06.94zm10 10l.94 2.06.94-2.06 2.06-.94-2.06-.94-.94-2.06-.94 2.06-2.06.94z\"/><path d=\"M17.41 7.96l-1.37-1.37c-.4-.4-.92-.59-1.43-.59-.52 0-1.04.2-1.43.59L10.3 9.45l-7.72 7.72c-.78.78-.78 2.05 0 2.83L4 21.41c.39.39.9.59 1.41.59.51 0 1.02-.2 1.41-.59l7.78-7.78 2.81-2.81c.8-.78.8-2.07 0-2.86zM5.41 20L4 18.59l7.72-7.72 1.47 1.35L5.41 20z\"/>\n",
              "  </svg>\n",
              "      </button>\n",
              "      \n",
              "  <style>\n",
              "    .colab-df-container {\n",
              "      display:flex;\n",
              "      flex-wrap:wrap;\n",
              "      gap: 12px;\n",
              "    }\n",
              "\n",
              "    .colab-df-convert {\n",
              "      background-color: #E8F0FE;\n",
              "      border: none;\n",
              "      border-radius: 50%;\n",
              "      cursor: pointer;\n",
              "      display: none;\n",
              "      fill: #1967D2;\n",
              "      height: 32px;\n",
              "      padding: 0 0 0 0;\n",
              "      width: 32px;\n",
              "    }\n",
              "\n",
              "    .colab-df-convert:hover {\n",
              "      background-color: #E2EBFA;\n",
              "      box-shadow: 0px 1px 2px rgba(60, 64, 67, 0.3), 0px 1px 3px 1px rgba(60, 64, 67, 0.15);\n",
              "      fill: #174EA6;\n",
              "    }\n",
              "\n",
              "    [theme=dark] .colab-df-convert {\n",
              "      background-color: #3B4455;\n",
              "      fill: #D2E3FC;\n",
              "    }\n",
              "\n",
              "    [theme=dark] .colab-df-convert:hover {\n",
              "      background-color: #434B5C;\n",
              "      box-shadow: 0px 1px 3px 1px rgba(0, 0, 0, 0.15);\n",
              "      filter: drop-shadow(0px 1px 2px rgba(0, 0, 0, 0.3));\n",
              "      fill: #FFFFFF;\n",
              "    }\n",
              "  </style>\n",
              "\n",
              "      <script>\n",
              "        const buttonEl =\n",
              "          document.querySelector('#df-b8570b95-6062-47c6-9c0a-d69f298421ed button.colab-df-convert');\n",
              "        buttonEl.style.display =\n",
              "          google.colab.kernel.accessAllowed ? 'block' : 'none';\n",
              "\n",
              "        async function convertToInteractive(key) {\n",
              "          const element = document.querySelector('#df-b8570b95-6062-47c6-9c0a-d69f298421ed');\n",
              "          const dataTable =\n",
              "            await google.colab.kernel.invokeFunction('convertToInteractive',\n",
              "                                                     [key], {});\n",
              "          if (!dataTable) return;\n",
              "\n",
              "          const docLinkHtml = 'Like what you see? Visit the ' +\n",
              "            '<a target=\"_blank\" href=https://colab.research.google.com/notebooks/data_table.ipynb>data table notebook</a>'\n",
              "            + ' to learn more about interactive tables.';\n",
              "          element.innerHTML = '';\n",
              "          dataTable['output_type'] = 'display_data';\n",
              "          await google.colab.output.renderOutput(dataTable, element);\n",
              "          const docLink = document.createElement('div');\n",
              "          docLink.innerHTML = docLinkHtml;\n",
              "          element.appendChild(docLink);\n",
              "        }\n",
              "      </script>\n",
              "    </div>\n",
              "  </div>\n",
              "  "
            ]
          },
          "metadata": {},
          "execution_count": 6
        }
      ]
    },
    {
      "cell_type": "markdown",
      "source": [
        "**Print headings and the first two rows**"
      ],
      "metadata": {
        "id": "d8-W2lw30asR"
      }
    },
    {
      "cell_type": "code",
      "source": [
        "print(table_1.head(2))"
      ],
      "metadata": {
        "colab": {
          "base_uri": "https://localhost:8080/"
        },
        "id": "ZCvppp2VzYp3",
        "outputId": "89814204-9ad0-4233-dd6c-42587e605bdc"
      },
      "execution_count": 7,
      "outputs": [
        {
          "output_type": "stream",
          "name": "stdout",
          "text": [
            "   Index   \"Eruption length (mins)\"  Eruption wait (mins)\n",
            "0      1                        3.6                    79\n",
            "1      2                        1.8                    54\n"
          ]
        }
      ]
    },
    {
      "cell_type": "markdown",
      "source": [
        "**Store the column names as a list**"
      ],
      "metadata": {
        "id": "iCznQlCQ006f"
      }
    },
    {
      "cell_type": "code",
      "source": [
        "col_names = table_1.columns\n",
        "print('Column Names: ')\n",
        "for i in range(len(col_names)):\n",
        "  print(col_names[i])"
      ],
      "metadata": {
        "colab": {
          "base_uri": "https://localhost:8080/"
        },
        "id": "fwkROr5DzcbO",
        "outputId": "882c4846-150a-4ca4-a879-7443d81b803e"
      },
      "execution_count": 9,
      "outputs": [
        {
          "output_type": "stream",
          "name": "stdout",
          "text": [
            "Column Names: \n",
            "Index\n",
            " \"Eruption length (mins)\"\n",
            "Eruption wait (mins)\n"
          ]
        }
      ]
    },
    {
      "cell_type": "markdown",
      "source": [
        "**Choose one or two columns and convert the data to Numpy arrays**\n",
        "\n",
        "and\n",
        "\n",
        "**Display data as a scatter plot or a line graph**"
      ],
      "metadata": {
        "id": "gmJA9Gxp02dP"
      }
    },
    {
      "cell_type": "code",
      "source": [
        "x = table_1['Index'].to_numpy()\n",
        "y = table_1[' \"Eruption length (mins)\"'].to_numpy()\n",
        "\n",
        "xmin = x.min() - 5\n",
        "xmax = x.max() + 5\n",
        "ymin = 0 #y.min() - 5\n",
        "ymax = 6 #y.max() + 5\n",
        "\n",
        "fig,ax = plt.subplots()\n",
        "plt.axis([xmin,xmax,ymin,ymax])\n",
        "plt.plot([xmin,xmax],[0,0],'k')\n",
        "plt.plot([0,0],[ymin,ymax],'k')\n",
        "\n",
        "plt.plot(x,y,'ro') #scatter plot\n",
        "plt.plot(x,y,'b') #line graph\n",
        "\n",
        "ax.set_xlabel(col_names[0])\n",
        "ax.set_ylabel(col_names[1])\n",
        "plt.show()"
      ],
      "metadata": {
        "colab": {
          "base_uri": "https://localhost:8080/",
          "height": 455
        },
        "id": "IcUR-rOO1KiG",
        "outputId": "6ddd3bee-c106-4281-8fd2-3b864c1317b7"
      },
      "execution_count": 13,
      "outputs": [
        {
          "output_type": "display_data",
          "data": {
            "text/plain": [
              "<Figure size 640x480 with 1 Axes>"
            ],
            "image/png": "[encoded data removed]"
          },
          "metadata": {}
        }
      ]
    }
  ]
}