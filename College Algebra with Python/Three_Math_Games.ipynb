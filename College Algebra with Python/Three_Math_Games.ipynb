{
  "nbformat": 4,
  "nbformat_minor": 0,
  "metadata": {
    "colab": {
      "provenance": []
    },
    "kernelspec": {
      "name": "python3",
      "display_name": "Python 3"
    },
    "language_info": {
      "name": "python"
    },
    "widgets": {
      "application/vnd.jupyter.widget-state+json": {
        "34b3cef6710e4152bc54095ff7b4a046": {
          "model_module": "@jupyter-widgets/controls",
          "model_name": "VBoxModel",
          "model_module_version": "1.5.0",
          "state": {
            "_dom_classes": [
              "widget-interact"
            ],
            "_model_module": "@jupyter-widgets/controls",
            "_model_module_version": "1.5.0",
            "_model_name": "VBoxModel",
            "_view_count": null,
            "_view_module": "@jupyter-widgets/controls",
            "_view_module_version": "1.5.0",
            "_view_name": "VBoxView",
            "box_style": "",
            "children": [
              "IPY_MODEL_6bf2868f72924e8daa8abadd45dee439",
              "IPY_MODEL_c898459ae8d74305aaacfa6d5ac92b76"
            ],
            "layout": "IPY_MODEL_e7c3436ba00549c1ba65c40c6260979f"
          }
        },
        "6bf2868f72924e8daa8abadd45dee439": {
          "model_module": "@jupyter-widgets/controls",
          "model_name": "IntSliderModel",
          "model_module_version": "1.5.0",
          "state": {
            "_dom_classes": [],
            "_model_module": "@jupyter-widgets/controls",
            "_model_module_version": "1.5.0",
            "_model_name": "IntSliderModel",
            "_view_count": null,
            "_view_module": "@jupyter-widgets/controls",
            "_view_module_version": "1.5.0",
            "_view_name": "IntSliderView",
            "continuous_update": true,
            "description": "b",
            "description_tooltip": null,
            "disabled": false,
            "layout": "IPY_MODEL_a4be60e06fa04e178e4157587a83acbc",
            "max": 10000,
            "min": 1,
            "orientation": "horizontal",
            "readout": true,
            "readout_format": "d",
            "step": 1,
            "style": "IPY_MODEL_1188ec649e304783b9c292b6b6b7c1b1",
            "value": 5000
          }
        },
        "c898459ae8d74305aaacfa6d5ac92b76": {
          "model_module": "@jupyter-widgets/output",
          "model_name": "OutputModel",
          "model_module_version": "1.0.0",
          "state": {
            "_dom_classes": [],
            "_model_module": "@jupyter-widgets/output",
            "_model_module_version": "1.0.0",
            "_model_name": "OutputModel",
            "_view_count": null,
            "_view_module": "@jupyter-widgets/output",
            "_view_module_version": "1.0.0",
            "_view_name": "OutputView",
            "layout": "IPY_MODEL_ea986d4528964032afbc1468dbaac1de",
            "msg_id": "",
            "outputs": [
              {
                "output_type": "display_data",
                "data": {
                  "text/plain": "<Figure size 640x480 with 1 Axes>",
                  "image/png": "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\n"
                },
                "metadata": {}
              }
            ]
          }
        },
        "e7c3436ba00549c1ba65c40c6260979f": {
          "model_module": "@jupyter-widgets/base",
          "model_name": "LayoutModel",
          "model_module_version": "1.2.0",
          "state": {
            "_model_module": "@jupyter-widgets/base",
            "_model_module_version": "1.2.0",
            "_model_name": "LayoutModel",
            "_view_count": null,
            "_view_module": "@jupyter-widgets/base",
            "_view_module_version": "1.2.0",
            "_view_name": "LayoutView",
            "align_content": null,
            "align_items": null,
            "align_self": null,
            "border": null,
            "bottom": null,
            "display": null,
            "flex": null,
            "flex_flow": null,
            "grid_area": null,
            "grid_auto_columns": null,
            "grid_auto_flow": null,
            "grid_auto_rows": null,
            "grid_column": null,
            "grid_gap": null,
            "grid_row": null,
            "grid_template_areas": null,
            "grid_template_columns": null,
            "grid_template_rows": null,
            "height": null,
            "justify_content": null,
            "justify_items": null,
            "left": null,
            "margin": null,
            "max_height": null,
            "max_width": null,
            "min_height": null,
            "min_width": null,
            "object_fit": null,
            "object_position": null,
            "order": null,
            "overflow": null,
            "overflow_x": null,
            "overflow_y": null,
            "padding": null,
            "right": null,
            "top": null,
            "visibility": null,
            "width": null
          }
        },
        "a4be60e06fa04e178e4157587a83acbc": {
          "model_module": "@jupyter-widgets/base",
          "model_name": "LayoutModel",
          "model_module_version": "1.2.0",
          "state": {
            "_model_module": "@jupyter-widgets/base",
            "_model_module_version": "1.2.0",
            "_model_name": "LayoutModel",
            "_view_count": null,
            "_view_module": "@jupyter-widgets/base",
            "_view_module_version": "1.2.0",
            "_view_name": "LayoutView",
            "align_content": null,
            "align_items": null,
            "align_self": null,
            "border": null,
            "bottom": null,
            "display": null,
            "flex": null,
            "flex_flow": null,
            "grid_area": null,
            "grid_auto_columns": null,
            "grid_auto_flow": null,
            "grid_auto_rows": null,
            "grid_column": null,
            "grid_gap": null,
            "grid_row": null,
            "grid_template_areas": null,
            "grid_template_columns": null,
            "grid_template_rows": null,
            "height": null,
            "justify_content": null,
            "justify_items": null,
            "left": null,
            "margin": null,
            "max_height": null,
            "max_width": null,
            "min_height": null,
            "min_width": null,
            "object_fit": null,
            "object_position": null,
            "order": null,
            "overflow": null,
            "overflow_x": null,
            "overflow_y": null,
            "padding": null,
            "right": null,
            "top": null,
            "visibility": null,
            "width": null
          }
        },
        "1188ec649e304783b9c292b6b6b7c1b1": {
          "model_module": "@jupyter-widgets/controls",
          "model_name": "SliderStyleModel",
          "model_module_version": "1.5.0",
          "state": {
            "_model_module": "@jupyter-widgets/controls",
            "_model_module_version": "1.5.0",
            "_model_name": "SliderStyleModel",
            "_view_count": null,
            "_view_module": "@jupyter-widgets/base",
            "_view_module_version": "1.2.0",
            "_view_name": "StyleView",
            "description_width": "",
            "handle_color": null
          }
        },
        "ea986d4528964032afbc1468dbaac1de": {
          "model_module": "@jupyter-widgets/base",
          "model_name": "LayoutModel",
          "model_module_version": "1.2.0",
          "state": {
            "_model_module": "@jupyter-widgets/base",
            "_model_module_version": "1.2.0",
            "_model_name": "LayoutModel",
            "_view_count": null,
            "_view_module": "@jupyter-widgets/base",
            "_view_module_version": "1.2.0",
            "_view_name": "LayoutView",
            "align_content": null,
            "align_items": null,
            "align_self": null,
            "border": null,
            "bottom": null,
            "display": null,
            "flex": null,
            "flex_flow": null,
            "grid_area": null,
            "grid_auto_columns": null,
            "grid_auto_flow": null,
            "grid_auto_rows": null,
            "grid_column": null,
            "grid_gap": null,
            "grid_row": null,
            "grid_template_areas": null,
            "grid_template_columns": null,
            "grid_template_rows": null,
            "height": null,
            "justify_content": null,
            "justify_items": null,
            "left": null,
            "margin": null,
            "max_height": null,
            "max_width": null,
            "min_height": null,
            "min_width": null,
            "object_fit": null,
            "object_position": null,
            "order": null,
            "overflow": null,
            "overflow_x": null,
            "overflow_y": null,
            "padding": null,
            "right": null,
            "top": null,
            "visibility": null,
            "width": null
          }
        }
      }
    }
  },
  "cells": [
    {
      "cell_type": "markdown",
      "source": [
        "# **Scatter Plot Game**"
      ],
      "metadata": {
        "id": "nSPcaDfmzym2"
      }
    },
    {
      "cell_type": "code",
      "source": [
        "from ipywidgets import interactive\n",
        "import matplotlib.pyplot as plt\n",
        "import random\n",
        "\n",
        "score = 0\n",
        "\n",
        "xmin = -10\n",
        "xmax = 10\n",
        "ymin = -10\n",
        "ymax = 10\n",
        "\n",
        "fig,ax = plt.subplots()\n",
        "for i in range(0,3):\n",
        "  x = random.randint(xmin,xmax)\n",
        "  y = random.randint(xmin,xmax)\n",
        "  plt.axis([xmin,xmax,ymin,ymax])\n",
        "  plt.plot([xmin,xmax],[0,0],'k')\n",
        "  plt.plot([0,0],[ymin,ymax],'k')\n",
        "  plt.plot([x],[y],'ro')\n",
        "  plt.show()\n",
        "  guess = input('Enter x, y: ').split(',')\n",
        "  g_x = int(guess[0])\n",
        "  g_y = int(guess[1])\n",
        "  if(g_x==x)and(g_y==y):\n",
        "    score += 1\n",
        "  print(f'Correct Answer:{x},{y}')\n",
        "  print(f'Score:{score}/3')\n",
        "\n"
      ],
      "metadata": {
        "colab": {
          "base_uri": "https://localhost:8080/",
          "height": 1000
        },
        "id": "hMtHjlunzyRh",
        "outputId": "1b13e952-fabf-4140-9db6-985574dc38e3"
      },
      "execution_count": 33,
      "outputs": [
        {
          "output_type": "display_data",
          "data": {
            "text/plain": [
              "<Figure size 640x480 with 1 Axes>"
            ],
            "image/png": "[encoded data removed]"
          },
          "metadata": {}
        },
        {
          "output_type": "stream",
          "name": "stdout",
          "text": [
            "Enter x, y: 4,-6\n",
            "Correct Answer:4,-6\n",
            "Score:1/3\n"
          ]
        },
        {
          "output_type": "display_data",
          "data": {
            "text/plain": [
              "<Figure size 640x480 with 1 Axes>"
            ],
            "image/png": "[encoded data removed]"
          },
          "metadata": {}
        },
        {
          "output_type": "stream",
          "name": "stdout",
          "text": [
            "Enter x, y: -2,-5\n",
            "Correct Answer:-1,-5\n",
            "Score:1/3\n"
          ]
        },
        {
          "output_type": "display_data",
          "data": {
            "text/plain": [
              "<Figure size 640x480 with 1 Axes>"
            ],
            "image/png": "[encoded data removed]"
          },
          "metadata": {}
        },
        {
          "output_type": "stream",
          "name": "stdout",
          "text": [
            "Enter x, y: 3,8\n",
            "Correct Answer:4,8\n",
            "Score:1/3\n"
          ]
        }
      ]
    },
    {
      "cell_type": "markdown",
      "source": [
        "# **Algebra practice game**"
      ],
      "metadata": {
        "id": "CjfLwQor3ygJ"
      }
    },
    {
      "cell_type": "code",
      "source": [
        "  import random\n",
        "\n",
        "  score = 0\n",
        "\n",
        "\n",
        "  for i in range(3):\n",
        "          num1 = random.randint(-100, 100)\n",
        "          num2 = random.randint(-100, 100)\n",
        "\n",
        "          operation = random.choice(['+', '-', '*', '/'])\n",
        "          if operation == '+':\n",
        "              problem = f\"{num1} + {num2}\"\n",
        "              solution = num1 + num2\n",
        "\n",
        "          elif operation == '-':\n",
        "              problem = f\"{num1} - {num2}\"\n",
        "              solution = num1 - num2\n",
        "\n",
        "          elif operation == '*':\n",
        "              problem = f\"{num1} * {num2}\"\n",
        "              solution = num1 * num2\n",
        "\n",
        "          else:\n",
        "              num2 = random.randint(-100, 100)\n",
        "              while num2 == 0:\n",
        "                  num2 = random.randint(-100, 100)\n",
        "              problem = f\"{num1} / {num2}\"\n",
        "              solution = num1 / num2\n",
        "          print(f\"What is the solution to this problem? {problem}\")\n",
        "          user_input = float(input(\"Your answer: \"))\n",
        "          if user_input == solution:\n",
        "            score += 1\n",
        "          print(f'Score:{score}/3')"
      ],
      "metadata": {
        "id": "92fOy4t93yNX",
        "colab": {
          "base_uri": "https://localhost:8080/"
        },
        "outputId": "84ee9505-b2dd-450f-fe37-146499f74dda"
      },
      "execution_count": 32,
      "outputs": [
        {
          "output_type": "stream",
          "name": "stdout",
          "text": [
            "What is the solution to this problem? 33 / 73\n",
            "Your answer: 10\n",
            "Score:0/3\n",
            "What is the solution to this problem? -2 + -96\n",
            "Your answer: -98\n",
            "Score:1/3\n",
            "What is the solution to this problem? -18 * 51\n",
            "Your answer: -560\n",
            "Score:1/3\n"
          ]
        }
      ]
    },
    {
      "cell_type": "markdown",
      "source": [
        "# **Projectile game**"
      ],
      "metadata": {
        "id": "1aQ0QNrO4UYd"
      }
    },
    {
      "cell_type": "code",
      "source": [
        "from ipywidgets import interactive\n",
        "import matplotlib.pyplot as plt\n",
        "import numpy as np\n",
        "import math\n",
        "import random\n",
        "\n",
        "loc = random.randint(1,100)\n",
        "h = random.randint(1,1000)\n",
        "\n",
        "print('A projectile has cross a wall of height',h,'KM located',loc,'KM away')\n",
        "\n",
        "def f(b):\n",
        "  a = -4.9\n",
        "  c = 1\n",
        "\n",
        "  vx = -b/(2*a)\n",
        "  vy = a*vx**2+b*vx+c\n",
        "\n",
        "  xmin = -1\n",
        "  ymin = -1\n",
        "  xmax = int(2*vx + 20)\n",
        "  ymax = int(vy + 10)\n",
        "\n",
        "  numpoints = 10*(xmax-xmin)\n",
        "\n",
        "  x = np.linspace(xmin,xmax,numpoints)\n",
        "  y = a*x**2 + b*x + c\n",
        "\n",
        "  fig,ax = plt.subplots()\n",
        "  plt.axis([xmin,xmax,ymin,ymax])\n",
        "  plt.plot([xmin,xmax],[0,0],'k')\n",
        "  plt.plot([0,0],[ymin,ymax],'k')\n",
        "\n",
        "  #line for the target distance\n",
        "\n",
        "  if(a*loc**2 + b*loc + c >= h):\n",
        "    plt.title('Success')\n",
        "  else:\n",
        "    plt.title('Keep Trying!!!')\n",
        "\n",
        "  plt.plot([loc,loc],[0,h],'r')\n",
        "  plt.plot(x,y)\n",
        "  plt.show()\n",
        "\n",
        "interactive_plot = interactive(f,b=(1,10000))\n",
        "interactive_plot"
      ],
      "metadata": {
        "colab": {
          "base_uri": "https://localhost:8080/",
          "height": 501,
          "referenced_widgets": [
            "34b3cef6710e4152bc54095ff7b4a046",
            "6bf2868f72924e8daa8abadd45dee439",
            "c898459ae8d74305aaacfa6d5ac92b76",
            "e7c3436ba00549c1ba65c40c6260979f",
            "a4be60e06fa04e178e4157587a83acbc",
            "1188ec649e304783b9c292b6b6b7c1b1",
            "ea986d4528964032afbc1468dbaac1de"
          ]
        },
        "id": "ITNnmQnf4Zyq",
        "outputId": "f08eb90d-2b05-4096-fb34-058814786a82"
      },
      "execution_count": 31,
      "outputs": [
        {
          "output_type": "stream",
          "name": "stdout",
          "text": [
            "A projectile has cross a wall of height 399 KM located 95 KM away\n"
          ]
        },
        {
          "output_type": "display_data",
          "data": {
            "text/plain": [
              "interactive(children=(IntSlider(value=5000, description='b', max=10000, min=1), Output()), _dom_classes=('widg…"
            ],
            "application/vnd.jupyter.widget-view+json": {
              "version_major": 2,
              "version_minor": 0,
              "model_id": "34b3cef6710e4152bc54095ff7b4a046"
            }
          },
          "metadata": {}
        }
      ]
    }
  ]
}